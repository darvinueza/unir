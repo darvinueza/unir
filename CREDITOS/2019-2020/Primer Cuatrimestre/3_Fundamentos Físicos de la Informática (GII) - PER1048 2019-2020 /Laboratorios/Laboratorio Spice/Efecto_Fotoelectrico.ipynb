{
  "cells": [
    {
      "cell_type": "markdown",
      "metadata": {},
      "source": [
        "# Ejercicio de Calentamiento\n",
        "Demuestre la equivalencia de la relación matemática:\n",
        "$$\\frac{x-x_1}{x_2-x_1} = \\frac{y-y_1}{y_2-y_1} \\simeq y=m.x+b$$\n",
        "Sabiendo que:\n",
        "$$(y-y_1).(x_2-x_1) = (x-x_1)(y_2-y_1)$$\n",
        "***Demostración:***\n",
        "$$(y-y_1).(x_2-x_1) = (x-x_1)(y_2-y_1)$$\n",
        "$$y.x_2 - y.x_1 - y_1.x_2 + y_1.x_1 = x.y_2 - x.y_1 - x_1.y_2 + x_1.y_1$$\n",
        "$$y.x_2 - y.x_1 - y_1.x_2 = x.y_2 - x.y_1 - x_1.y_2$$\n",
        "$$y.x_1 - y.x_2 + y_1.x_2 = x.y_1 - x.y_2 + x_1.y_2$$\n",
        "$$y.(x_1 - x_2) + y_1.x_2 = x.(y_1 - y_2) + x_1.y_2$$\n",
        "$$y.(x_1 - x_2) = x.(y_1 - y_2) + x_1.y_2 - x2.y_1$$\n",
        "$$y=\\frac{x.(y_1 - y_2) + x_1.y_2 - x2.y_1}{x_1 - x_2}$$\n",
        "$$y=\\frac{y_1 - y_2}{x_1 - x_2} \\cdot x + \\frac{x_1.y_2 - x2.y_1}{x_1 - x_2}$$\n",
        "$$y=m.x + b$$"
      ]
    },
    {
      "cell_type": "markdown",
      "metadata": {},
      "source": [
        "# ¿Qué es el efecto fotoeléctrico?\n",
        "Cuando la luz brilla en un metal, los electrones pueden ser expulsados de la superficie del metal en un fenómeno conocido como el efecto fotoeléctrico. También, a este proceso suele llamársele fotoemisión, y a los electrones que son expulsados del metal, fotoelectrones. En términos de su comportamiento y sus propiedades, los fotoelectrones no son diferentes de otros electrones. El prefijo foto simplemente nos indica que los electrones han sido expulsados de la superficie de un metal por la luz incidente. \n",
        "![](https://i.ibb.co/Xyhqr4k/1.png)\n"
      ]
    },
    {
      "cell_type": "markdown",
      "metadata": {},
      "source": [
        "# Efecto Fotoelectrico\n",
        "Vamos a evaluar para qué voltajes de frenado (y materiales) detenemos la emisión de electrones que se han producido al ser extraídos mediante la colisión con partículas de luz (fotones) según ciertas longitudes de onda.\n",
        "\n",
        "**Reminder: las mediciones completas pueden verificarse en el archivo Measures.xlsx adjunto\n",
        "\n",
        "**Reminder: la columna \"Electrons arrive to the Plate\" si bien es cuasi auto descriptiva, está manifestando si para los valores de \"nm\" y \"Voltage\", los electrones efectivamente pasan de un plato al otro (al menos uno).\n"
      ]
    },
    {
      "cell_type": "markdown",
      "metadata": {},
      "source": [
        "# Mediciones Obtenidas\n",
        "## Material: Sodio\n",
        "\n",
        "| nm  | Voltage (v) | Material | Value | Electrons arrive to the Plate |\n",
        "|-----|-------------|----------|-------|-------------------------------|\n",
        "| 431 | 0.42        | Sodium   | 0.079 | Y                             |\n",
        "| 441 | 0.42        | Sodium   | 0.064 | Y                             |\n",
        "| 451 | 0.42        | Sodium   | 0.05  | Y                             |\n",
        "| 461 | 0.42        | Sodium   | 0.039 | Y                             |\n",
        "| 471 | 0.42        | Sodium   | 0.029 | Y                             |\n",
        "| 431 | 0.40        | Sodium   | 0.079 | Y                             |\n",
        "| 441 | 0.40        | Sodium   | 0.064 | Y                             |\n",
        "| 451 | 0.40        | Sodium   | 0.05  | Y                             |\n",
        "| 461 | 0.40        | Sodium   | 0.039 | Y                             |\n",
        "| 471 | 0.40        | Sodium   | 0.029 | Y                             |\n",
        "| 431 | 0.38        | Sodium   | 0.079 | Y                             |\n",
        "| 441 | 0.38        | Sodium   | 0.064 | Y                             |\n",
        "| 451 | 0.38        | Sodium   | 0.05  | Y                             |\n",
        "| 461 | 0.38        | Sodium   | 0.039 | Y                             |\n",
        "| 471 | 0.38        | Sodium   | 0.029 | Y                             |\n",
        "| 431 | -0.42       | Sodium   | 0.021 | Y                             |\n",
        "| 441 | -0.42       | Sodium   | 0     | Y                             |\n",
        "| 451 | -0.42       | Sodium   | 0     | Y                             |\n",
        "| 461 | -0.42       | Sodium   | 0     | N                             |\n",
        "| 471 | -0.42       | Sodium   | 0     | N                             |\n",
        "| 431 | -0.40       | Sodium   | 0.024 | Y                             |\n",
        "| 441 | -0.40       | Sodium   | 0     | Y                             |\n",
        "| 451 | -0.40       | Sodium   | 0     | Y                             |\n",
        "| 461 | -0.40       | Sodium   | 0     | N                             |\n",
        "| 471 | -0.40       | Sodium   | 0     | N                             |\n",
        "| 431 | -0.38       | Sodium   | 0.027 | Y                             |\n",
        "| 441 | -0.38       | Sodium   | 0.016 | Y                             |\n",
        "| 451 | -0.38       | Sodium   | 0     | Y                             |\n",
        "| 461 | -0.38       | Sodium   | 0     | N                             |\n",
        "| 471 | -0.38       | Sodium   | 0     | N                             |\n",
        "| 431 | -0.36       | Sodium   | 0.03  | Y                             |\n",
        "| 441 | -0.36       | Sodium   | 0.019 | Y                             |\n",
        "| 451 | -0.36       | Sodium   | 0     | Y                             |\n",
        "| 461 | -0.36       | Sodium   | 0     | Y                             |\n",
        "| 471 | -0.36       | Sodium   | 0     | N                             |"
      ]
    },
    {
      "cell_type": "markdown",
      "metadata": {},
      "source": [
        "# Mediciones Obtenidas\n",
        "## Material: Platino\n",
        "\n",
        "| nm  | Voltage (v) | Material | Value | Electrons arrive to the Plate |\n",
        "|-----|-------------|----------|-------|-------------------------------|\n",
        "| 171 | 0.42        | Platinum | 0.085 | Y                             |\n",
        "| 181 | 0.42        | Platinum | 0.03  | Y                             |\n",
        "| 191 | 0.42        | Platinum | 0     | Y                             |\n",
        "| 201 | 0.42        | Platinum | 0     | N                             |\n",
        "| 211 | 0.42        | Platinum | 0     | N                             |\n",
        "| 171 | 0.40        | Platinum | 0.085 | Y                             |\n",
        "| 181 | 0.40        | Platinum | 0.03  | Y                             |\n",
        "| 191 | 0.40        | Platinum | 0     | Y                             |\n",
        "| 201 | 0.40        | Platinum | 0     | N                             |\n",
        "| 211 | 0.40        | Platinum | 0     | N                             |\n",
        "| 171 | 0.38        | Platinum | 0.085 | Y                             |\n",
        "| 181 | 0.38        | Platinum | 0.03  | Y                             |\n",
        "| 191 | 0.38        | Platinum | 0     | Y                             |\n",
        "| 201 | 0.38        | Platinum | 0     | N                             |\n",
        "| 211 | 0.38        | Platinum | 0     | N                             |\n",
        "| 171 | -0.42       | Platinum | 0.048 | Y                             |\n",
        "| 181 | -0.42       | Platinum | 0     | Y                             |\n",
        "| 191 | -0.42       | Platinum | 0     | N                             |\n",
        "| 201 | -0.42       | Platinum | 0     | N                             |\n",
        "| 211 | -0.42       | Platinum | 0     | N                             |\n",
        "| 171 | -0.40       | Platinum | 0.049 | Y                             |\n",
        "| 181 | -0.40       | Platinum | 0     | Y                             |\n",
        "| 191 | -0.40       | Platinum | 0     | N                             |\n",
        "| 201 | -0.40       | Platinum | 0     | N                             |\n",
        "| 211 | -0.40       | Platinum | 0     | N                             |\n",
        "| 171 | -0.38       | Platinum | 0.051 | Y                             |\n",
        "| 181 | -0.38       | Platinum | 0     | Y                             |\n",
        "| 191 | -0.38       | Platinum | 0     | N                             |\n",
        "| 201 | -0.38       | Platinum | 0     | N                             |\n",
        "| 211 | -0.38       | Platinum | 0     | N                             |\n",
        "| 171 | -0.36       | Platinum | 0.053 | Y                             |\n",
        "| 181 | -0.36       | Platinum | 0     | Y                             |\n",
        "| 191 | -0.36       | Platinum | 0     | N                             |\n",
        "| 201 | -0.36       | Platinum | 0     | N                             |\n",
        "| 211 | -0.36       | Platinum | 0     | N                             |"
      ]
    },
    {
      "cell_type": "markdown",
      "metadata": {},
      "source": [
        "##  ¿Cuál es la relación matemática entre longitud de onda y frecuencia de una onda electromagnética?\n",
        "\n",
        "Luego de observar las mediciones anteriores y teniendo en cuenta las expresiones matemáticas tenemos que:\n",
        "\n",
        "-  La frecuencia es el número de repeticiones por unidad de tiempo de cualquier evento periódico.\n",
        "-  El período es la duración de tiempo de cada evento repetitivo, por lo que el período es el recíproco de la frecuencia. \n",
        "\n",
        "### Postulados\n",
        "1.  Para un metal y una frecuencia de radiación incidente dados, la cantidad de fotoelectrones emitidos es directamente proporcional a la intensidad de luz incidente.\n",
        "2.  Para cada metal dado, existe una cierta frecuencia mínima de radiación incidente debajo de la cual ningún fotoelectrón puede ser emitido. Esta frecuencia se llama frecuencia de corte, también conocida como \"Frecuencia Umbral\".\n",
        "3.  Por encima de la frecuencia de corte, la energía cinética máxima del fotoelectrón emitido es independiente de la intensidad de la luz incidente, pero depende de la frecuencia de la luz incidente.\n",
        "4.  La emisión del fotoelectrón se realiza instantáneamente, independientemente de la intensidad de la luz incidente. Este hecho se contrapone a la teoría Clásica:la Física Clásica esperaría que existiese un cierto retraso entre la absorción de energía y la emisión del electrón, inferior a un nanosegundo.\n",
        "\n",
        "\n",
        "A modo de ejemplo, podemos comparar una onda de luz con una ola. Teniendo unas pelotas de playa que están en un muelle que se extiende hacia el océano. El muelle representa una superficie metálica, las pelotas de playa representan electrones y las olas del océano representan ondas de luz. Si una sola ola grande chocara contra el muelle, esperaríamos que la energía de esa ola grande mandara a volar las pelotas de playa fuera del muelle con mucha más energía cinética comparada con una sola ola pequeña. Esto también es lo que pensaban los físicos que pasaría si se incrementara la intensidad de la luz. Se esperaba que la amplitud de la luz fuera proporcional a la energía de la luz. Se predijo que esa amplitud de la luz más alta resultaría en fotoelectrones con más energía cinética.\n",
        "\n",
        "Resultaron estar equivocados, pero tranquilos, Einstein vino al rescate.\n",
        "Einstein fue quien propuso que la luz a veces se comporta como partículas de energía electromagnética que ahora llamamos fotones. La energía de un fotón se podría calcular usando la ecuación de Planck:\n",
        "$$E_f = h * v$$\n",
        "\n",
        "Por lo tanto tenemos que:\n",
        "- $E_f$: es la energía del fotón en joules (J)\n",
        "- $\\hslash$: es la constante de Planck ($6.626 * 10^{-34} J * s$)\n",
        "- v: es la frecuencia de la luz (Hz)\n",
        "\n",
        "De acuerdo con la ecuación de Planck, la energía de un fotón es proporcional a la frecuencia de la luz (v) por lo tanto la amplitud de la luz es, entonces, proporcional al número de fotones con una frecuencia dada.\n",
        "\n",
        "### Demostracion\n",
        "De acuerdo con la ecuación de Planck, la energía de un fotón es proporcional a la frecuencia de la luz (v).\n",
        "$$E_f = h * v$$\n",
        "La frecuencia de la luz (v) es inversamente proporcional a la longitud de onda ($\\lambda$). Si tomamos (c) como la velocidad de la luz.\n",
        "$$c = \\lambda * v$$\n",
        "\n",
        "Tenemos que al aumentar la longitud de onda disminuye la frecuencia de la luz. Por lo tanto, a medida que la longitud de onda de un fotón aumenta, su energía disminuye."
      ]
    },
    {
      "cell_type": "markdown",
      "metadata": {},
      "source": [
        "\n",
        "## Longitudes de Onda\n",
        "Almacenamos en un array (uno para cada material) las longitudes de onda para los cuales los Voltajes de frenado detienen una suficiente cantidad de electrones como para que la cantidad de corriente sea indetectable por el amperimetro (aunque existe corriente claro esta pero es muy debil), estos registros son los valores de la columna \"nm\" en donde la columna \"Value\" es (0) y la columna \"Electrons arrive to the Plate\" es (Y).\n",
        "\n",
        "Es decir, en este caso cierta cantidad de electrones llegan a la placa (a pesar del contra-voltaje) y sí que se produce una corriente (pequeña, pero medible). "
      ]
    },
    {
      "cell_type": "markdown",
      "metadata": {},
      "source": [
        "### Material: Sodio\n",
        "\n",
        "**Reminder: .map(): se utiliza para realizar la conversion de unidades a metros\n",
        "\n",
        "**Reminder: Unidad Utilizada: Metros"
      ]
    },
    {
      "cell_type": "code",
      "execution_count": 35,
      "metadata": {},
      "outputs": [
        {
          "ename": "SyntaxError",
          "evalue": "invalid syntax (<ipython-input-35-aafbea546d03>, line 1)",
          "output_type": "error",
          "traceback": [
            "\u001b[1;36m  File \u001b[1;32m\"<ipython-input-35-aafbea546d03>\"\u001b[1;36m, line \u001b[1;32m1\u001b[0m\n\u001b[1;33m    var measured_wavelengths_sodium = [491, 491, 491, 441, 451, 441, 451, 451, 451, 461].map(x => x*1e-9);\u001b[0m\n\u001b[1;37m                                  ^\u001b[0m\n\u001b[1;31mSyntaxError\u001b[0m\u001b[1;31m:\u001b[0m invalid syntax\n"
          ]
        }
      ],
      "source": [
        "var measured_wavelengths_sodium = [491, 491, 491, 441, 451, 441, 451, 451, 451, 461].map(x => x*1e-9);  \n",
        "console.log('Longitud de Onda expresada en metros - Material Sodio')\n",
        "console.log(measured_wavelengths_sodium)"
      ]
    },
    {
      "cell_type": "markdown",
      "metadata": {},
      "source": [
        "### Material: Platino\n",
        "**Reminder: .map(): se utiliza para realizar la conversion de unidades a metros\n",
        "\n",
        "**Reminder: Unidad Utilizada: Metros"
      ]
    },
    {
      "cell_type": "code",
      "execution_count": 0,
      "metadata": {},
      "outputs": [],
      "source": [
        "var measured_wavelengths_platinum = [191, 191, 191, 181, 181, 181, 191].map(x => x*1e-9); \n",
        "console.log('Longitud de Onda expresada en metros - Material Platino')\n",
        "console.log(measured_wavelengths_platinum)"
      ]
    },
    {
      "cell_type": "markdown",
      "metadata": {},
      "source": [
        "### Materiales: Zinc, Copper, Calcium \n",
        "**Reminder: En este caso agrupamos los materiales para hacer mas simple la lectura\n",
        "\n",
        "**Reminder: Unidad Utilizada: Metros"
      ]
    },
    {
      "cell_type": "code",
      "execution_count": 0,
      "metadata": {},
      "outputs": [],
      "source": [
        "var measured_wavelengths_zinc = [284, 284, 284, 285, 285, 285].map(x => x*1e-9); \n",
        "var measured_wavelengths_copper = [257, 257, 257, 140, 140, 140].map(x => x*1e-9); \n",
        "var measured_wavelengths_calcium = [408, 408, 408, 174, 174, 174].map(x => x*1e-9); \n",
        "console.log('Longitud de Onda expresada en metros - Material Zinc')\n",
        "console.log(measured_wavelengths_zinc)\n",
        "console.log('Longitud de Onda expresada en metros - Material Copper')\n",
        "console.log(measured_wavelengths_copper)\n",
        "console.log('Longitud de Onda expresada en metros - Material Calcium')\n",
        "console.log(measured_wavelengths_calcium)"
      ]
    },
    {
      "cell_type": "markdown",
      "metadata": {},
      "source": [
        "## Voltaje de Frenado\n",
        "Almacenamos en un array (uno para cada material) los voltajes de frenado que frente a las longitudes de onda medidas anterioremente se observa que se detienen una suficiente cantidad de electrones como para que la cantidad de corriente sea indetectable por el amperimetro. Nuevamente estos registros son aquellos valores de la columna \"Voltage (v)\" en donde la columna \"Value\" es (0) y la columna \"Electrons arrive to the Plate\" es (Y)."
      ]
    },
    {
      "cell_type": "markdown",
      "metadata": {},
      "source": [
        "### Material: Sodio\n",
        "\n",
        "**Reminder: Unidad Utilizada: Voltios\n",
        "\n"
      ]
    },
    {
      "cell_type": "code",
      "execution_count": 0,
      "metadata": {},
      "outputs": [],
      "source": [
        "var measured_voltages_sodium = [0.42, 0.40, 0.38, -0.42, -0.42, -0.40, -0.40, -0.38, -0.36, -0.36];  "
      ]
    },
    {
      "cell_type": "markdown",
      "metadata": {},
      "source": [
        "### Material: Platino\n",
        "\n",
        "**Reminder: Unidad Utilizada: Voltios"
      ]
    },
    {
      "cell_type": "code",
      "execution_count": 0,
      "metadata": {},
      "outputs": [],
      "source": [
        "var measured_voltages_platinum = [0.42, 0.40, 0.38, -0.42, -0.40, -0.38, -0.36];  "
      ]
    },
    {
      "cell_type": "markdown",
      "metadata": {},
      "source": [
        "### Materiales: Zinc, Copper, Calcium\n",
        "\n",
        "**Reminder: Unidad Utilizada: Voltios"
      ]
    },
    {
      "cell_type": "code",
      "execution_count": 0,
      "metadata": {},
      "outputs": [],
      "source": [
        "var measured_voltages_zinc = [0.42, 0.40, 0.38, -0.42, -0.40, -0.38]; \n",
        "var measured_voltages_copper = [0.40, 0.40, 0.38, -0.42, -0.40, -0.38]; \n",
        "var measured_voltages_calcium = [0.42, 0.40, 0.38, -0.42, -0.40, -0.38]; "
      ]
    },
    {
      "cell_type": "markdown",
      "metadata": {},
      "source": [
        "Realizamos un ajuste a una recta (o regresión lineal) aqui lo que perseguimos es hallar la ecuación de la recta que mejor pasa por una serie de puntos. \n",
        "\n",
        "**Reminder: Una recta se puede definir, como mínimo, con dos puntos x1, y1 e x2, y2 de manera que cualquier otro punto de dicha recta ,  cumple que: \n",
        "$${(x-x_1)\\over(x_2-x_1)} = {(y-y_1)\\over(y_2-y_1)}$$\n"
      ]
    },
    {
      "cell_type": "markdown",
      "metadata": {},
      "source": [
        "Para hacer un ajuste para cada material (utilizando la libreria regression.js) tenemos que transformar un poco los datos, pues la utilidad regression.js usa tuplas (arrays de dos elementos). El mismo es una extension escrita en javascript (el cual se encuentra dentro del directorio actual).\n",
        "\n",
        "**Reminder: Un array, es un tipo de dato estructurado que permite almacenar un conjunto de datos homogeneo, es decir, todos ellos del mismo tipo y relacionados. Cada uno de los elementos que componen un vector pueden ser de tipo simple como caracteres, entero o real, o de tipo compuesto o estructurado como son vectores, estructuras, listas."
      ]
    },
    {
      "cell_type": "code",
      "execution_count": 0,
      "metadata": {},
      "outputs": [],
      "source": [
        "var invert_measured_wavelengths_sodium = measured_wavelengths_sodium.map(lambda => 1/lambda );  \n",
        "\n",
        "var data_to_adjust_sodium = measured_voltages_sodium.reduce((result, b, i) => {\n",
        "\n",
        "    result.push([invert_measured_wavelengths_sodium[i], b]);\n",
        "\n",
        "  return result;\n",
        "\n",
        "}, []);\n",
        "\n",
        "var invert_measured_wavelengths_platinum = measured_wavelengths_platinum.map(lambda => 1/lambda );  \n",
        "\n",
        "var data_to_adjust_platinum = measured_voltages_platinum.reduce((result, b, i) => {\n",
        "\n",
        "    result.push([invert_measured_wavelengths_platinum[i], b]);\n",
        "\n",
        "  return result;\n",
        "\n",
        "}, []);\n",
        "\n",
        "var invert_measured_wavelengths_zinc = measured_wavelengths_zinc.map(lambda => 1/lambda );  \n",
        "\n",
        "var data_to_adjust_zinc = measured_voltages_zinc.reduce((result, b, i) => {\n",
        "\n",
        "    result.push([invert_measured_wavelengths_zinc[i], b]);\n",
        "\n",
        "  return result;\n",
        "\n",
        "}, []);\n",
        "\n",
        "var invert_measured_wavelengths_copper = measured_wavelengths_copper.map(lambda => 1/lambda );  \n",
        "\n",
        "var data_to_adjust_copper = measured_voltages_copper.reduce((result, b, i) => {\n",
        "\n",
        "    result.push([invert_measured_wavelengths_copper[i], b]);\n",
        "\n",
        "  return result;\n",
        "\n",
        "}, []);\n",
        "\n",
        "var invert_measured_wavelengths_calcium = measured_wavelengths_calcium.map(lambda => 1/lambda );  \n",
        "\n",
        "var data_to_adjust_calcium = measured_voltages_calcium.reduce((result, b, i) => {\n",
        "\n",
        "    result.push([invert_measured_wavelengths_calcium[i], b]);\n",
        "\n",
        "  return result;\n",
        "\n",
        "}, []);\n",
        "\n",
        "console.log('Sodium Adjusted Values Array')\n",
        "console.log(data_to_adjust_sodium)\n",
        "\n",
        "console.log('Platinum Adjusted Values Array')\n",
        "console.log(data_to_adjust_platinum)\n",
        "\n",
        "console.log('Sodium Adjusted Values Array')\n",
        "console.log(invert_measured_wavelengths_zinc)\n",
        "\n",
        "console.log('Copper Adjusted Values Array')\n",
        "console.log(invert_measured_wavelengths_copper)\n",
        "\n",
        "console.log('Calcium Adjusted Values Array')\n",
        "console.log(invert_measured_wavelengths_calcium)"
      ]
    },
    {
      "cell_type": "markdown",
      "metadata": {},
      "source": [
        "Efectuamos la regresion con la utilidad y calculamos la pendiente (m) y la ordenada al origen (b) para cada material."
      ]
    },
    {
      "cell_type": "code",
      "execution_count": 0,
      "metadata": {},
      "outputs": [],
      "source": [
        "// Importamos el paquete .js\n",
        "var regression = require('./regression.js');\n",
        "\n",
        "var result_sodium = regression.linear(data_to_adjust_sodium, { precision: 15 });\n",
        "var result_platinum = regression.linear(data_to_adjust_platinum, { precision: 15 });\n",
        "var result_zinc = regression.linear(data_to_adjust_zinc, { precision: 15 });\n",
        "var result_copper = regression.linear(data_to_adjust_copper, { precision: 15 });\n",
        "var result_calcium = regression.linear(data_to_adjust_calcium, { precision: 15 });\n",
        "\n",
        "var slope_sodium = result_sodium.equation[0];\n",
        "var slope_platinum = result_platinum.equation[0];\n",
        "var slope_zinc = result_zinc.equation[0];\n",
        "var slope_copper = result_copper.equation[0];\n",
        "var slope_calcium = result_calcium.equation[0];\n",
        "\n",
        "var intercept_sodium = result_sodium.equation[1];\n",
        "var intercept_platinum = result_platinum.equation[1];\n",
        "var intercept_zinc = result_zinc.equation[1];\n",
        "var intercept_copper = result_copper.equation[1];\n",
        "var intercept_calcium = result_calcium.equation[1];\n",
        "\n",
        "console.log('la pendiente es = ' + slope_sodium + ' y la ordenada es = ' + intercept_sodium + ' para el material Sodio');\n",
        "console.log('la pendiente es = ' + slope_platinum + ' y la ordenada es = ' + intercept_platinum + ' para el material Platino');\n",
        "console.log('la pendiente es = ' + slope_zinc + ' y la ordenada es = ' + intercept_zinc + ' para el material Zinc');\n",
        "console.log('la pendiente es = ' + slope_copper + ' y la ordenada es = ' + intercept_copper + ' para el material Copper');\n",
        "console.log('la pendiente es = ' + slope_calcium + ' y la ordenada es = ' + intercept_calcium + ' para el material Calcium');"
      ]
    },
    {
      "cell_type": "markdown",
      "metadata": {},
      "source": [
        "Ahora bien, vamos a calcular la constante de Planck ($\\hslash$)  y la funcion de Trabajo ($\\phi$) con las siguientes expresiones matematicas:\n",
        "\n",
        "$$\n",
        "\\hslash = pendiente_m * e \\over 2*c * \\pi\n",
        "$$\n",
        "\n",
        "$$\n",
        "\\phi = ordenadaalorigen_m * e\n",
        "$$\n",
        "\n",
        "**Reminder: Disponemos de los siguientes valores\n",
        "- e: Carga del electron ($ 1.6*10^{-19} C $)\n",
        "- $\\pi$: Constante (3,1415...)\n",
        "- ordenadaalorigen_m: Ordenada al origen asociada al material\n",
        "- pendiente_m: Pendiente dependiente al material\n",
        "- c: Velocidad de luz en el vacio ($2.9*10^8 {m\\over s}$)"
      ]
    },
    {
      "cell_type": "code",
      "execution_count": 0,
      "metadata": {},
      "outputs": [],
      "source": [
        "var c= 2.9* Math.pow(10,8)\n",
        "var e = 1.6 * Math.pow(10,-19)\n",
        "\n",
        "console.log('Sodio -  Planck')\n",
        "console.log(((slope_sodium * e)/(2*c*Math.PI)) + ' J * s')\n",
        "\n",
        "console.log('Platino -  Planck')\n",
        "console.log(((slope_platinum * e)/(2*c*Math.PI))+ ' J * s ')\n",
        "\n",
        "console.log('Zinc -  Planck')\n",
        "console.log(((slope_zinc * e)/(2*c*Math.PI))+ ' J * s ')\n",
        "\n",
        "console.log('Copper -  Planck')\n",
        "console.log(((slope_copper * e)/(2*c*Math.PI))+ ' J * s ')\n",
        "\n",
        "console.log('Calcium -  Planck')\n",
        "console.log(((slope_calcium * e)/(2*c*Math.PI))+ ' J * s ')\n",
        "\n",
        "console.log('Sodio -  Funcion de Trabajo')\n",
        "console.log((intercept_sodium * e) + ' J')\n",
        "\n",
        "console.log('Platino -  Funcion de Trabajo')\n",
        "console.log((intercept_platinum * e) + ' J')\n",
        "\n",
        "console.log('Zinc -  Funcion de Trabajo')\n",
        "console.log((intercept_zinc * e) + ' J')\n",
        "\n",
        "console.log('Copper -  Funcion de Trabajo')\n",
        "console.log((intercept_copper * e) + ' J')\n",
        "\n",
        "console.log('Calcio -  Funcion de Trabajo')\n",
        "console.log((intercept_calcium * e) + ' J')"
      ]
    },
    {
      "cell_type": "markdown",
      "metadata": {},
      "source": [
        "VAMOS A GRAFICAR. \n",
        "Principalmente tenemos que integrar globalmente Plotly a la solucion"
      ]
    },
    {
      "cell_type": "code",
      "execution_count": 0,
      "metadata": {},
      "outputs": [],
      "source": [
        "function Plotly(data, layout, $$) {\n",
        "    $$ = $$ || global.$$;\n",
        "    $$.mime({ \"application/vnd.plotly.v1+json\": { data: data, layout: layout } });\n",
        "}"
      ]
    },
    {
      "cell_type": "markdown",
      "metadata": {},
      "source": [
        "Antes de dibujar las rectas tenemos que calcular los puntos \"y\" (Voltajes) para los valores de \"x\" (Longitudes de Onda Inversas) y utilizando tambien los valores de pendiente \"slope_*\" y ordenada al origen \"intercept_*\" para cada material. Expresado matematicamente seria:  \n",
        "$$\n",
        "\n",
        "V_m = pendiente_m * {1\\over\\lambda} + ordenadaalorigen_m\n",
        "$$"
      ]
    },
    {
      "cell_type": "code",
      "execution_count": 0,
      "metadata": {},
      "outputs": [],
      "source": [
        "var  calculated_braking_voltages_sodium = invert_measured_wavelengths_sodium.map(inversa_lambda => inversa_lambda * slope_sodium + intercept_sodium);\n",
        "var  calculated_braking_voltages_platinum = invert_measured_wavelengths_platinum.map(inversa_lambda => inversa_lambda * slope_platinum + intercept_platinum);\n",
        "var  calculated_braking_voltages_zinc = invert_measured_wavelengths_zinc.map(inversa_lambda => inversa_lambda * slope_zinc + intercept_zinc);\n",
        "var  calculated_braking_voltages_copper = invert_measured_wavelengths_copper.map(inversa_lambda => inversa_lambda * slope_copper + intercept_copper);\n",
        "var  calculated_braking_voltages_calcium = invert_measured_wavelengths_calcium.map(inversa_lambda => inversa_lambda * slope_calcium + intercept_calcium);"
      ]
    },
    {
      "cell_type": "code",
      "execution_count": 0,
      "metadata": {},
      "outputs": [],
      "source": [
        "var data_sodium = [\n",
        "\n",
        "  { x: invert_measured_wavelengths_sodium, y: measured_voltages_sodium, name: 'Datos experimentales' }, \n",
        "\n",
        "  { x: invert_measured_wavelengths_sodium, y: calculated_braking_voltages_sodium, name: 'Datos calculados tras ajuste' }\n",
        "\n",
        "];\n",
        "\n",
        "var data_platinum = [\n",
        "\n",
        "  { x: invert_measured_wavelengths_platinum, y: measured_voltages_platinum, name: 'Datos experimentales' }, \n",
        "\n",
        "  { x: invert_measured_wavelengths_platinum, y: calculated_braking_voltages_platinum, name: 'Datos calculados tras ajuste' }\n",
        "\n",
        "];\n",
        "\n",
        "var data_zinc = [\n",
        "\n",
        "  { x: invert_measured_wavelengths_zinc, y: measured_voltages_zinc, name: 'Datos experimentales' }, \n",
        "\n",
        "  { x: invert_measured_wavelengths_zinc, y: calculated_braking_voltages_zinc, name: 'Datos calculados tras ajuste' }\n",
        "\n",
        "];\n",
        "\n",
        "var data_copper = [\n",
        "\n",
        "  { x: invert_measured_wavelengths_copper, y: measured_voltages_copper, name: 'Datos experimentales' }, \n",
        "\n",
        "  { x: invert_measured_wavelengths_copper, y: calculated_braking_voltages_copper, name: 'Datos calculados tras ajuste' }\n",
        "\n",
        "];\n",
        "\n",
        "var data_calcium = [\n",
        "\n",
        "  { x: invert_measured_wavelengths_calcium, y: measured_voltages_calcium, name: 'Datos experimentales' }, \n",
        "\n",
        "  { x: invert_measured_wavelengths_calcium, y: calculated_braking_voltages_calcium, name: 'Datos calculados tras ajuste' }\n",
        "\n",
        "];\n",
        "\n",
        "var layout_sodium = {\n",
        "  title: 'Material Sodio',\n",
        "  xaxis: { title: 'Frecuencia (Hz)',\n",
        "    titlefont: { family: 'Courier New, monospace', size: 18, color: '#7f7f7f' }\n",
        "  },\n",
        "  yaxis: {\n",
        "    title: 'Valores del Potencial de Detención (v)', titlefont: {\n",
        "      family: 'Courier New, monospace', size: 18, color: '#7f7f7f' }\n",
        "  }\n",
        "};\n",
        "\n",
        "var layout_platinum = {\n",
        "  title: 'Material Platino',\n",
        "  xaxis: { title: 'Frecuencia (Hz)',\n",
        "    titlefont: { family: 'Courier New, monospace', size: 18, color: '#7f7f7f' }\n",
        "  },\n",
        "  yaxis: {\n",
        "    title: 'Valores del Potencial de Detención (v)', titlefont: {\n",
        "      family: 'Courier New, monospace', size: 18, color: '#7f7f7f' }\n",
        "  }\n",
        "};\n",
        "\n",
        "\n",
        "var layout_zinc = {\n",
        "  title: 'Material Zinc',\n",
        "  xaxis: { title: 'Frecuencia (Hz)',\n",
        "    titlefont: { family: 'Courier New, monospace', size: 18, color: '#7f7f7f' }\n",
        "  },\n",
        "  yaxis: {\n",
        "    title: 'Valores del Potencial de Detención (v)', titlefont: {\n",
        "      family: 'Courier New, monospace', size: 18, color: '#7f7f7f' }\n",
        "  }\n",
        "};\n",
        "\n",
        "var layout_copper = {\n",
        "  title: 'Material Copper',\n",
        "  xaxis: { title: 'Frecuencia (Hz)',\n",
        "    titlefont: { family: 'Courier New, monospace', size: 18, color: '#7f7f7f' }\n",
        "  },\n",
        "  yaxis: {\n",
        "    title: 'Valores del Potencial de Detención (v)', titlefont: {\n",
        "      family: 'Courier New, monospace', size: 18, color: '#7f7f7f' }\n",
        "  }\n",
        "};\n",
        "\n",
        "\n",
        "var layout_calcium = {\n",
        "  title: 'Material Calcium',\n",
        "  xaxis: { title: 'Frecuencia (Hz)',\n",
        "    titlefont: { family: 'Courier New, monospace', size: 18, color: '#7f7f7f' }\n",
        "  },\n",
        "  yaxis: {\n",
        "    title: 'Valores del Potencial de Detención (v)', titlefont: {\n",
        "      family: 'Courier New, monospace', size: 18, color: '#7f7f7f' }\n",
        "  }\n",
        "};\n",
        "\n",
        "Plotly(data_sodium, layout_sodium);"
      ]
    },
    {
      "cell_type": "code",
      "execution_count": 0,
      "metadata": {},
      "outputs": [],
      "source": [
        "Plotly(data_platinum, layout_platinum);"
      ]
    },
    {
      "cell_type": "code",
      "execution_count": 0,
      "metadata": {},
      "outputs": [],
      "source": [
        "Plotly(data_zinc, layout_zinc);"
      ]
    },
    {
      "cell_type": "code",
      "execution_count": 0,
      "metadata": {},
      "outputs": [],
      "source": [
        "Plotly(data_copper, layout_copper);"
      ]
    },
    {
      "cell_type": "code",
      "execution_count": 0,
      "metadata": {},
      "outputs": [],
      "source": [
        "Plotly(data_calcium, layout_calcium);"
      ]
    },
    {
      "cell_type": "markdown",
      "metadata": {},
      "source": [
        "# Ejercicio Premium\n",
        "\n",
        "## Intensidad de corriente en función de la intensidad de la luz\n",
        "\n",
        "\n",
        "Para la realización del ejercicio se nos señala como longitud de onda permanente 100nm. A nuestra elección queda el metal a estudiar el cual será el Platino (platinum).\n",
        "\n",
        "A partir de aquí se nos pide un estudio del comportamiento del voltaje obtenido al ir aumentando la intensidad de luminosidad y una reflexión sobre este comportamiento apoyandonos en los datos recibidos del experimento: \n",
        "\n",
        "## Mediciones Obtenidas\n",
        "\n",
        "| nm  | Value  | Material |Voltaje (v)|Electrons arrive to the Plate|\n",
        "|-----|--------|----------|-------|-------------------------------|\n",
        "| 100 | 0.10   | Platinum | 0.090 | Y                             |\n",
        "| 100 | 0.20   | Platinum | 0.173 | Y                             |\n",
        "| 100 | 0.30   | Platinum | 0.261 | Y                             |\n",
        "| 100 | 0.40   | Platinum | 0.351 | Y                             |\n",
        "| 100 | 0.50   | Platinum | 0.441 | Y                             |\n",
        "| 100 | 0.60   | Platinum | 0.531 | Y                             |\n",
        "| 100 | 0.70   | Platinum | 0.621 | Y                             |\n",
        "| 100 | 0.80   | Platinum | 0.702 | Y                             |\n",
        "| 100 | 0.90   | Platinum | 0.792 | Y                             |\n",
        "| 100 | 1.00   | Platinum | 0.882 | Y                             |\n",
        "##\n",
        "\n",
        "Lo que se desprende de los datos obtenidos a simple vista es el carácter lineal que tiene la relación entre el voltaje y la intensidad lumínica lo cual nos indica que cuanta mayor sea la intensidad de luminosidad, mayor será el valor del voltaje provocado por el efecto fotoeléctrico.\n",
        "\n",
        "\n",
        "Por tanto, con los datos obtenidos y la reflexión realizada sobre el carácter linealista de la relación entre esas variantes podemos suponer una gráfica lineal y ascendente similar a la siguiente:\n",
        "\n"
      ]
    },
    {
      "cell_type": "code",
      "execution_count": 0,
      "metadata": {},
      "outputs": [],
      "source": [
        "var measured_intensity = [0.05,0.10,0.15,0.20,0.25,0.30,0.35,0.40,0.45,0.50,0.55,0.60,0.65,0.70,0.75,0.80,0.85,0.90,0.95,1.00]\n",
        "\n",
        "var measured_voltage = [0.048,0.090,0.131,0.173,0.221,0.261,0.311,0.351,0.401,0.441,0.489,0.531,0.572,0.621,0.662,0.702,0.752,0.792,0.842,0.882]\n",
        "\n",
        "var data_platinum = [\n",
        "\n",
        "  { x: measured_intensity, y: measured_voltage, name: 'Datos obtenidos' }\n",
        "];\n",
        "\n",
        "var layout_platinum = {\n",
        "  title: 'Variación del voltaje respecto a la intensidad lumínica',\n",
        "  xaxis: { title: 'Intensidad lumínica (%)',\n",
        "    titlefont: { family: 'Courier New, monospace', size: 18, color: '#7f7f7f' }\n",
        "  },\n",
        "  yaxis: {\n",
        "    title: 'Voltaje (v)', titlefont: {\n",
        "      family: 'Courier New, monospace', size: 18, color: '#7f7f7f' }\n",
        "  }\n",
        "};\n",
        "\n",
        "Plotly(data_platinum, layout_platinum);"
      ]
    },
    {
      "cell_type": "markdown",
      "metadata": {},
      "source": [
        "# Partícula en un campo magnético\n",
        "\n",
        "Primero importamos todas las bibliotecas que necesitaremos (como sympy o math) para facilitarnos los calculos, algunas de las funciones importadas son abreviadas (como sympy.physics.units que se transforma en \"u\") :"
      ]
    },
    {
      "cell_type": "code",
      "execution_count": 0,
      "metadata": {},
      "outputs": [],
      "source": [
        "from sympy import *\n",
        "from IPython.display import display, Math, Latex\n",
        "init_printing(use_latex='mathjax')\n",
        "from sympy.physics.units import convert_to\n",
        "import sympy.physics.units as u\n",
        "import scipy.constants as spc\n",
        "import math"
      ]
    },
    {
      "cell_type": "markdown",
      "metadata": {},
      "source": [
        "A continuacion definimos la unidad \"gauss\" y sus caracteristicas. \n",
        "\n",
        "También definimos una función que embellece la presentación de los resultados (renderTeX)."
      ]
    },
    {
      "cell_type": "code",
      "execution_count": 0,
      "metadata": {},
      "outputs": [],
      "source": [
        "gauss = u.Quantity('gauss')\n",
        "gauss.set_dimension(u.magnetic_flux_density, 'SI')\n",
        "gauss.set_scale_factor(1E-4 * u.tesla, 'SI')\n",
        "\n",
        "\n",
        "def renderTeX(source):\n",
        "    resultLaTeX=\"$${}$$\".format(latex(source))\n",
        "    display(Latex(resultLaTeX))"
      ]
    },
    {
      "cell_type": "markdown",
      "metadata": {},
      "source": [
        "Para hacer que la escritura de código sea más fácil y rápida vamos a definir algunas variables;\n",
        "\n",
        "\"B\" el campo magnetico, \"q\" la carga de un electron $q_e$, \"m\" la masa de un electron $m_e$,\"E\" la capacidad de trabajo del electron.  También definiremos dos incógnitas \"$r$\" y \"$v$\" que vamos a resolver gracias a dos equaciones que introduciremos mas tarde."
      ]
    },
    {
      "cell_type": "code",
      "execution_count": 0,
      "metadata": {},
      "outputs": [],
      "source": [
        "\n",
        "B = convert_to(3250*gauss, u.tesla)\n",
        "renderTeX(B)"
      ]
    },
    {
      "cell_type": "code",
      "execution_count": 65,
      "metadata": {},
      "outputs": [
        {
          "data": {
            "text/latex": "$$1.6021766208 \\cdot 10^{-19} \\text{C}$$",
            "text/plain": "<IPython.core.display.Latex object>"
          },
          "metadata": {},
          "output_type": "display_data"
        }
      ],
      "source": [
        "q = spc.elementary_charge * u.coulomb\n",
        "renderTeX(q)"
      ]
    },
    {
      "cell_type": "code",
      "execution_count": 66,
      "metadata": {},
      "outputs": [
        {
          "data": {
            "text/latex": "$$7.209 \\cdot 10^{-15} \\text{J}$$",
            "text/plain": "<IPython.core.display.Latex object>"
          },
          "metadata": {},
          "output_type": "display_data"
        }
      ],
      "source": [
        "E = 72090E-19 * u.joule\n",
        "renderTeX(E)"
      ]
    },
    {
      "cell_type": "code",
      "execution_count": 67,
      "metadata": {},
      "outputs": [
        {
          "data": {
            "text/latex": "$$9.10938356 \\cdot 10^{-31} \\text{kg}$$",
            "text/plain": "<IPython.core.display.Latex object>"
          },
          "metadata": {},
          "output_type": "display_data"
        }
      ],
      "source": [
        "m = spc.electron_mass * u.kilogram\n",
        "renderTeX(m)"
      ]
    },
    {
      "cell_type": "code",
      "execution_count": 68,
      "metadata": {},
      "outputs": [],
      "source": [
        "r = u.Quantity('radio')\n",
        "r.set_dimension(u.length, \"SI\")\n",
        "\n",
        "v = u.Quantity('velocidad')\n",
        "v.set_dimension(u.speed, \"SI\")"
      ]
    },
    {
      "cell_type": "markdown",
      "metadata": {},
      "source": [
        "Las dos equaciones que vamos a utilizar para encontrar nuestras incognitas son la equacion de Lorentz y la equacion de la energia cinetica.\n",
        "\n",
        "De esta manera encontramos que el radio \"$r$\" es de:"
      ]
    },
    {
      "cell_type": "code",
      "execution_count": 69,
      "metadata": {},
      "outputs": [
        {
          "data": {
            "text/latex": "$$0.0022009149169046 \\text{m}$$",
            "text/plain": "<IPython.core.display.Latex object>"
          },
          "metadata": {},
          "output_type": "display_data"
        }
      ],
      "source": [
        "eq_lorentz = Eq(q*v*B, (m*v**2)/r)\n",
        "eq_ecinetica = Eq(E, 0.5*m*v**2)\n",
        "solucion_v_r = solve([eq_ecinetica, eq_lorentz], [v, r])[1]\n",
        "radio = solucion_v_r[1]\n",
        "radio = convert_to(radio, [u.meter, u.seconds])\n",
        "renderTeX(radio)"
      ]
    },
    {
      "cell_type": "markdown",
      "metadata": {},
      "source": [
        "la velocidad:"
      ]
    },
    {
      "cell_type": "code",
      "execution_count": 70,
      "metadata": {},
      "outputs": [
        {
          "data": {
            "text/latex": "$$\\frac{125807929.848134 \\sqrt{\\text{J}}}{\\sqrt{\\text{kg}}}$$",
            "text/plain": "<IPython.core.display.Latex object>"
          },
          "metadata": {},
          "output_type": "display_data"
        }
      ],
      "source": [
        "velocidad = solve(eq_ecinetica, v)[1]\n",
        "renderTeX(velocidad)"
      ]
    },
    {
      "cell_type": "markdown",
      "metadata": {},
      "source": [
        "... lo que en metros por segundo es igual a:"
      ]
    },
    {
      "cell_type": "code",
      "execution_count": 71,
      "metadata": {},
      "outputs": [
        {
          "data": {
            "text/latex": "$$\\frac{125807929.848134 \\text{m}}{\\text{s}}$$",
            "text/plain": "<IPython.core.display.Latex object>"
          },
          "metadata": {},
          "output_type": "display_data"
        }
      ],
      "source": [
        "velocidad = convert_to(velocidad, [u.meter, u.seconds])\n",
        "renderTeX(velocidad)"
      ]
    },
    {
      "cell_type": "markdown",
      "metadata": {},
      "source": [
        "Calculamos la velocidad angular $w$, lo que nos va a permitir de deducir la frecuencia $f$ y el periodo $T$.\n",
        "\n",
        ">>> w y w1 son dos maneras de calcular la velocidad angular"
      ]
    },
    {
      "cell_type": "code",
      "execution_count": 72,
      "metadata": {},
      "outputs": [
        {
          "data": {
            "text/latex": "$$\\frac{57161650767.069}{\\text{s}}$$",
            "text/plain": "<IPython.core.display.Latex object>"
          },
          "metadata": {},
          "output_type": "display_data"
        },
        {
          "data": {
            "text/latex": "$$\\frac{57161650767.069 \\text{C} \\text{T}}{\\text{kg}}$$",
            "text/plain": "<IPython.core.display.Latex object>"
          },
          "metadata": {},
          "output_type": "display_data"
        }
      ],
      "source": [
        "w1 = (q*B)/m\n",
        "w = velocidad / radio      # w es la velocidad angular\n",
        "w1 = convert_to(w1, [u.radian])\n",
        "w = convert_to(w, [u.radian])\n",
        "renderTeX(w)\n",
        "renderTeX(w1)   "
      ]
    },
    {
      "cell_type": "code",
      "execution_count": 73,
      "metadata": {},
      "outputs": [
        {
          "data": {
            "text/latex": "$$\\frac{9097559274.87167}{\\text{s}}$$",
            "text/plain": "<IPython.core.display.Latex object>"
          },
          "metadata": {},
          "output_type": "display_data"
        }
      ],
      "source": [
        "frecuencia = w / (2 * math.pi)\n",
        "renderTeX(frecuencia)"
      ]
    },
    {
      "cell_type": "code",
      "execution_count": 74,
      "metadata": {},
      "outputs": [
        {
          "data": {
            "text/latex": "$$1.09919591594429 \\cdot 10^{-10} \\text{s}$$",
            "text/plain": "<IPython.core.display.Latex object>"
          },
          "metadata": {},
          "output_type": "display_data"
        }
      ],
      "source": [
        "periodo = 1 / frecuencia\n",
        "renderTeX(periodo)"
      ]
    },
    {
      "cell_type": "markdown",
      "metadata": {},
      "source": [
        "#### En el caso de un antineutrón no pasaria lo mismo, el antineutrón al ser de carga elemental neutra no se veria afectado por el campo magnetico por lo cual permaneceria en su stado inicial (conservaria la misma velocidad)"
      ]
    },
    {
      "cell_type": "markdown",
      "metadata": {},
      "source": [
        "_Pregunta: En el código anterior: ¿por qué indicamos que las dimensiones de la unidad gauss (definida por nosotros) son de densidad de flujo magnético (magnetic_flux_density)?_"
      ]
    },
    {
      "cell_type": "markdown",
      "metadata": {},
      "source": [
        "__Respuesta: para indicar de que manera se comporta la unidad gauss, la unidad Gauss: $Mx / cm^2$ al igual que el tesla es inversamente proporcional al cuadrado de la distancia, por lo cual entra en la categoria de unidades de densidad de flujos magneticos.__"
      ]
    }
  ],
  "metadata": {
    "kernel_info": {
      "name": "node_nteract"
    },
    "language_info": {
      "name": "javascript",
      "version": "10.2.0",
      "mimetype": "application/javascript",
      "file_extension": ".js"
    },
    "kernelspec": {
      "name": "node_nteract",
      "language": "javascript",
      "display_name": "Node.js (nteract)"
    },
    "nteract": {
      "version": "0.15.0"
    }
  },
  "nbformat": 4,
  "nbformat_minor": 0
}