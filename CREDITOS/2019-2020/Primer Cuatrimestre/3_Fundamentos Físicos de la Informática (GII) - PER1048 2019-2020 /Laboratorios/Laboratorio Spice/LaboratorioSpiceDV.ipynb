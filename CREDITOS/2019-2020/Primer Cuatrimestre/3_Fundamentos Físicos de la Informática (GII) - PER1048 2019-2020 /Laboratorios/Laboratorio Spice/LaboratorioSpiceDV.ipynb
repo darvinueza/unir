{
  "cells": [
    {
      "cell_type": "markdown",
      "source": [
        "# Objetivo del laboratorio\n",
        "El objetivo de la presenta práctica es conocer el estándar de simulación de circuitos [SPICE](http://bwrcs.eecs.berkeley.edu/Classes/IcBook/SPICE) y realizar pequeñas simulaciones en corriente continua con el mismo. SPICE es una forma elegante y sencilla de codificar circuitos eléctricos de manera que puedan ser procesados por un ordenador. Mediante un sencillo lenguaje podemos definir resistencias, fuentes de alimentación, etc., las conexiones entre ellos y los resultados que deseamos obtener.\n",
        "\n",
        "# El estándar SPICE\n",
        "**SPICE** es una abreviabiación de *Simulation Program with Integrated Circtuit Emphasis*.\n",
        "Se trata básicamente de un método estándar para describir circuitos usando texto plano en lugar de una representación gráfica (o *esquemática*). A esta descripción en texto se la llama también **netlist** y básicamente se corresponde con la *lista* de los componentes del circuito y cómo estos están conectados entre sí, es decir, de los nodos de unión. Los ficheros netlist pueden tener extensiones `.cir`, `.net`, `.ckt`, ó `.sp` y es muy común encontrárselos con cualquiera de estas.\n",
        "\n",
        "Existen en el mercado muchas variantes (intérpretes) de Spice, aunque el original fue descrito en la Universidad de Berkeley. En la lista de intérpretes de Spice tenemos desde esfuerzos y proyectos comerciales hasta *open source* y regidos por distintas comunidades de usuarios y programadores. \n",
        "\n",
        "> **Pregunta:** Enumera todos los intérprete de Spice que puedas encontrar. Crea una tabla en Markdown con varias columnas (para el nombre, fabricante, versión actual, licencia y alguna característica sobresaliente). Aquí tienes un ejemplo del que puedes partir y seguir completando:\n",
        "\n",
        "**Respuesta:**\n",
        "\n",
        "| Intérprete          | Licencia   | Fabricante                   | Características                        |\n",
        "| :------------------ | :--------- | :--------------------------- | :------------------------------------- |\n",
        "| Ahkab               | GPL        | Giuseppe Venturini           | Basado en Python                       |\n",
        "| LTspice             | GPL        | Analog Devices               | App de Escritorio                      |\n",
        "| Circuit Simulator   | GPL        | Paul Falst                   | Java Script/Applets Java               |\n",
        "| QUCS                | GPL        | Stefan Jahn                  | GUI/GNU                                |\n",
        "| Xcos                | GPL        | Scilab Enterprises S.A.S     | C, C++, Java, XML, Scilab, Makefiles   |\n",
        "| Ktechlab            | GPL        | KTechLab Developers          | C++                                    |\n",
        "| Pspice              | PAGA       | Cadence                      | PSpice Designer y PSpice Designer Plus |\n",
        " \n",
        "> **Pregunta:** ¿Qué comparación puedes efectuar entre C y Spice como estándares (lenguajes) y sus respectivas implementaciones en software? ¿Qué implementaciones reales (compiladores) del lenguaje C conoces? \n",
        "\n",
        "**Respuesta:**\n",
        "\n",
        "*¿Qué comparación puedes efectuar entre C y Spice como estándares (lenguajes) y sus respectivas implementaciones en software?* \n",
        "* C es un lenguaje de programación estructurado y SPICE3, fue desarrollada en lenguaje C por Thomas Quarless.\n",
        "* Tanto C como SPICE operan en multiplataforma [Sistema Operativo: Multiplataforma].\n",
        "* Tanto C como SPICE son dos cosas muy distintas, tienen objetivos distintos: C es un lenguaje de programación con el cual puedes hacer desde módulos para Kernel como Linux hasta cryptocurrency en cambio SPICE es un estándar internacional cuyo objetivo es simular circuitos electrónicos analógicos compuestos por resistencias, condensadores, diodos, transistores, etc. \n",
        "\n",
        "*¿Qué implementaciones reales (compiladores) del lenguaje C conoces?*\n",
        "\n",
        "* Kernel: Linux, Minix, Hurd, FreeBSD, OpenBSD, y Darwing.\n",
        "* Kernel de Mac OS X.\n",
        "* PostgreSQL\n",
        "* Versionado: Git, Subversion\n",
        "* Servidores Web: Apache, Nginx\n",
        "* Editores: Emacs, VIM, Geany\n",
        "* Matemáticas: R, MATLAB, Octave\n",
        "* Lenguajes de Programación: C, C++, Python, Perl, Ruby\n",
        "\n",
        "## Elementos de un netlist\n",
        "Como acabamos de comentar, un netlist se corresponde con la codificación de los elementos electrónicos de un circuito y las uniones entre los mismos. Veamos con más concreción qué partes y secciones lo componen. \n",
        "\n",
        "## Comentarios\n",
        "La primera línea de un netlist se corresponderá siempre con un comentario. A partir de esta línea se pueden introducir más comentarios pero tienen que ir siempre precedidos de un `*`. \n",
        "\n",
        "Ejemplo: \n",
        "```spice\n",
        "Mi primer circuito\n",
        "* Otro comentario\n",
        "* más comentarios\n",
        "*\n",
        "```\n",
        "## Dispositivos básicos de un circuito\n",
        "Los elementos de un netlist son los mismos que encontramos en cualquier circuito eléctrico sencillo, tales como resistencias, **condensadores**, **bobinas**, **interruptores**, **hilos** y **fuentes** de alimentación. Para distinguir uno de otro, se reserva una letra característica: `V` para fuentes de alimentación, `R` para resistencias, `C` para condensadores y `L` para bobinas. También es posible usar estas letras en su versión en minúscula (`r`, `v`, `c`, `l`, etc.). Después de esta letra característica se puede sufijar cualquier texto para diferenciar un elemento de otro (números, letras, palabras, etc.). \n",
        "\n",
        "Ejemplo:\n",
        "```\n",
        "* Una resistencia\n",
        "R1\n",
        "*  Otra resistencia\n",
        "R2\n",
        "* Fuente de alimentación\n",
        "V\n",
        "* Un condensador\n",
        "C\n",
        "```\n",
        "## Conexiones\n",
        "A continuación de indicar el elemento eléctrico, tenemos que informar a Spice cuáles son los puntos de unión tanto a un lado como al otro del elemento. Así es como Spice sabe qué está conectado a qué: porque comparten un **punto** (o **nodo**, aunque este término se reserva sobretodo a uniones de más de dos elementos) que hemos señalizado correctamente. Para nombrar nodos, lo mejor es emplear una numeración secuencial: 0...n. **La enumeración de los puntos de unión es completamente a nuestro criterio**.\n",
        "```\n",
        "* Una resistencia\n",
        "* entre cables 0 y 1\n",
        "R1 0 1\n",
        "```\n",
        "**Sólo es necesario seguir un criterio**: en el caso de una fuente de alimentación, el nodo que pondremos primero será aquel que está más cerca del *borne* positivo. \n",
        "\n",
        "Ejemplo: \n",
        "```spice\n",
        "* Para una fuente indicamos primeramente conexión a nodo positivo.\n",
        "v 2 3 type=vdc vdc=1\n",
        "```\n",
        "En el *caso de LTspice* no es necesario indicar los parámetros `type=vdc` y `vdc=X`, sino que si no se especifica nada, se supone que el último valor es el del voltaje a corriente continua:\n",
        "\n",
        "```spice\n",
        "* Especificación de una fuente de alimentación de 10 V en corriente continua en el caso de LTspice\n",
        "v 0 1 10\n",
        "```\n",
        "\n",
        "Aquí tienes un ejemplo gráfico de los componentes comentados justo arriba (resistencia y voltaje): ![](https://raw.githubusercontent.com/pammacdotnet/spicelab/master/resistencia%20y%20pila%20con%20nodos.svg?sanitize=true)\n",
        "\n",
        "## Unidades en SPICE\n",
        "Las unidades de las magnitudes características del circuito son siempre [unidades del Sistema Internacional](https://en.wikipedia.org/wiki/SI_electromagnetism_units) y no es necesario indicarlo explícitamente en el netlist.\n",
        " \n",
        "La forma de especificar múltiplos de estas cantidades es añadiendo una letra.\n",
        "Básicamente las que nos interesan y las que suelen aparecer mayoritariamente son `k` para \"kilo-,\" `m` para \"mili?\" y `u` para \"micro?\".\n",
        "\n",
        "> **Pregunta:** Crea una tabla en Markdown con todos los prefijos de múltiplos que puedas, su abreviatura y su equivalencia numérica.\n",
        "\n",
        "**Respuesta:**\n",
        "\n",
        "| Factor       | Prefijo       | Simbolo      | Factor        | Prefijo       | Simbolo      |  \n",
        "| :----------: | :----------:  | :----------: | :-----------: | :----------:  | :----------: |\n",
        "| $$10^1$$     | $$deca$$      | $$da$$       | $$10^{-1}$$   | $$deci$$      | $$d$$        |\n",
        "| $$10^2$$     | $$hecto$$     | $$h$$        | $$10^{-2}$$   | $$centi$$     | $$c$$        |\n",
        "| $$10^3$$     | $$kilo$$      | $$k$$        | $$10^{-3}$$   | $$mili$$      | $$m$$        |\n",
        "| $$10^6$$     | $$mega$$      | $$M$$        | $$10^{-6}$$   | $$micro$$     | $$µ$$        |\n",
        "| $$10^9$$     | $$giga$$      | $$G$$        | $$10^{-9}$$   | $$nano$$      | $$n$$        |\n",
        "| $$10^12$$    | $$tera$$      | $$T$$        | $$10^{-12}$$  | $$pico$$      | $$p$$        |\n",
        "| $$10^15$$    | $$peta$$      | $$P$$        | $$10^{-15}$$  | $$femto$$     | $$f$$        |\n",
        "| $$10^18$$    | $$exa$$       | $$E$$        | $$10^{-18}$$  | $$atto$$      | $$a$$        |\n",
        "| $$10^21$$    | $$zeta$$      | $$Z$$        | $$10^{-21}$$  | $$zepto$$     | $$z$$        |\n",
        "| $$10^24$$    | $$yotta$$     | $$Y$$        | $$10^{-24}$$  | $$yocto$$     | $$y$$        |\n",
        "\n",
        "En el caso de las fuentes de alimentación hemos de especificar si se trata de corriente contínua (`vdc`) o alterna (`ac`).\n",
        " \n",
        "```\n",
        "* Una resistencia de 5 Ohmios\n",
        "R2 1 0 5\n",
        "* Una pila de 10 Voltios (continua)\n",
        "V1 1 0 type=vdc vdc=10\n",
        "* Una resistencia de 5 kΩ\n",
        "RX 2 4 5k\n",
        "```\n",
        "\n",
        "> **Pregunta**: ¿Qué unidades del Sistema Internacional relacionadas con la asignatura –y los circuitos en general– conoces? Responde aquí mismo en una celda de Markdown con una tabla.\n",
        "\n",
        "**Respuesta:**\n",
        "\n",
        "| Magnitud                                | Unidad                         | Simbolo       |\n",
        "| --------------------------------------- | -----------------------------  | ------------- |\n",
        "| Metro                                   | Longitud                       | $$m$$         |\n",
        "| Kilogramo                               | Masa                           | $$kg$$        |\n",
        "| Segundo                                 | Tiempo                         | $$s$$         |\n",
        "| Amperio                                 | Corriente Electrica            | $$A$$         |\n",
        "| Kelvin                                  | Temperatura                    | $$K$$         |\n",
        "| Fuerza                                  | Newton                         | $$N$$         |\n",
        "| Energía, trabajo, calor                 | Julio                          | $$J$$         |\n",
        "| Potencia                                | Vatio                          | $$W$$         |\n",
        "| Carga eléctrica                         | Columbio                       | $$C$$         |\n",
        "| Potencial eléctrico, voltaje inducido   | Voltio                         | $$V$$         |\n",
        "| Resistencia eléctrica                   | Ohmio                          | $$Ω$$         |\n",
        "| Capacitancia eléctrica                  | Faradio                        | $$F$$         |\n",
        "| Área                                    | Metro cuadrado                 | $$m^2$$       |\n",
        "| Volumen                                 | Metro cúbico                   | $$m^3$$       |\n",
        "| Velocidad, rapidez                      | Metro por segundo              | $$m/s$$       |\n",
        "| Velocidad angular                       | Radián por segundo             | $$rad/s$$     |\n",
        "| Aceleración                             | Metro por segundo al cuadrado  | $$m/s^2$$     |\n",
        "| Momento de fuerza                       | Newton metro                   | $$N.m$$       |\n",
        " \n",
        "## Valores iniciales\n",
        " \n",
        "Aparecen justo al final de la definición del componente (`ic`). Suelen aplicarse principalmente con condensadores.\n",
        " \n",
        "```\n",
        "* Una condensador inicialmente no cargado\n",
        "c 1 0 1u ic=0\n",
        "```\n",
        " \n",
        "## Fin del circuito\n",
        "El fin de la descripción de un netlist se especifica mediante el comando `.end`.\n",
        " \n",
        "```spice\n",
        "* Mi primer circuito\n",
        "V 1 0 vdc=10 type=vdc\n",
        "R 1 0 5\n",
        "* Fin del circuito\n",
        ".end\n",
        "```\n",
        "\n",
        "## Comandos SPICE para circuitos en corriente continua\n",
        " \n",
        "Además de la descripción del circuito, hemos de indicar al intérprete de Spice qué tipo de análisis queremos realizar en sobre el mismo y cómo queremos presentar la salida de la simulación. Los comandos en Spice empiezan por un `.` y suelen escribirse justo al final del circuito, pero antes del comando `.end`.\n",
        " \n",
        "```\n",
        "Mi primer circuito\n",
        "* Aquí van los componentes\n",
        "R 1 0 6k\n",
        "...\n",
        "* Comandos\n",
        ".op\n",
        "...\n",
        "* Fin del circuito\n",
        ".end\n",
        "```\n",
        " \n",
        "> **Pregunta**: Hasta lo que has visto del lenguaje Spice, ¿dentro de qué tipo o conjunto de lenguajes encajaría? \n",
        "* ¿Funcionales?\n",
        "* ¿Específicos de dominio?\n",
        "* ¿Procedurales?\n",
        "* ¿Estructurados?\n",
        "* ¿Orientado a Objetos? \n",
        "Justifica tu respuesta. \n",
        " \n",
        "**Respuesta:**\n",
        "\n",
        "*Específicos de dominio*, ya que tiene como objetivo resolver un problema en particular, y este es el de simular circuitos electrónicos analógicos compuestos por resistencias, condensadores, diodos, transistores, etc.\n",
        " \n",
        "Veamos los principales comandos de simulación:\n",
        " \n",
        "- `.op` es el comando más sencillo que podemos emplear. Devuelve el voltaje e intensidad en cada ramal y componente del circuito. Este comando no necesita parámetros.\n",
        "- `.dc` es uy parecido al comando `.op` pero nos permite cambiar el valor del voltaje de una fuente de alimentación en pasos consecutivos entre el valor A y el valor B.\n",
        "\n",
        "En el caso de que la fuente tuviera asignada ya un valor para su voltaje, este sería ignorado. \n",
        "\n",
        "Ejemplo: \n",
        "```spice\n",
        "* Variamos el valor del voltaje\n",
        "* de la fuente \"v\" de 1 a 1000\n",
        "* en pasos de 5 voltios\n",
        "v 1 0 type=vdc vdc=10\n",
        ".dc v 1 start=1 stop=1000 step=20\n",
        "v2a 2 4 type=vdc vdc=9\n",
        "* Igual para v2a. Se ignora su voltaje de 9V\n",
        ".dc v2a start=0 stop=10 step=2\n",
        "```\n",
        "\n",
        "- El comando `.tran` realiza un análisis en el tiempo de los parámetros del circuito. Si no se emplea la directiva `uic` (*use initial conditions*) o esta es igual a cero, este análisis se realiza desde el punto estable de funcionamiento del circuito hasta un tiempo `tfinal`. y en intervalos `tstep`. Si empleamos un varlor distinto para parámetro `uic`, entonces se hará uso de las condiciones iniciales definidas para cada componente (típicamente `ic=X` en el caso de los condensadores, que da cuenta de la carga incial que estos pudieran tener).\n",
        " \n",
        "```\n",
        "* Hacemos avanzar el tiempo entre\n",
        "* tinicial y tfinal en pasos tstep\n",
        ".tran tstart=X tstop=Y tstep=Z uic=0/1/2/3\n",
        "```\n",
        " \n",
        "`X`, `Y` y `Z` tienen, evidentemente unidades de tiempo en el S.I. (segundos).\n",
        " \n",
        "> **Pregunta**: El parámetro `uic` puede tener varios valores y cada uno significa una cosa. Detállalo usando un celda Markdown y consultando la [documentación de Ahkab](https://buildmedia.readthedocs.org/media/pdf/ahkab/latest/ahkab.pdf).\n",
        "\n",
        "**Respuesta:**\n",
        "\n",
        "| UIC   | Descripción                       |\n",
        "| :---: | :-------------------------------- |\n",
        "| 0     | Todos los voltajes del nodo y corrientes a través de las fuentes *v/h/e* son cero en *t=tstart*. |\n",
        "| 1     | El estado en  *'t=tstart*  es el último resultado de un análisis **OP**.                         |\n",
        "| 2     | El estado en *t=tstart* es el último resultado de un análisis **OP** en el que se establecen los valores de las corrientes a través de inductores y voltajes en los condensadores especificados en su **ic**. |\n",
        "| 3     | Cargue un **ic** suministrado por el usuario. Esto requiere una directiva de **.ic** en alguna parte de la lista de red y el nombre del **ic** y **ic_label** deben coincidir. | \n",
        "\n",
        "\n",
        "## Intérprete SPICE que vamos a usar: Ahkab\n",
        "Tras un estándar siempre hay una o varias implementaciones. Ahkab no deja de ser una implmentación más en Python del estándar Spice.\n",
        "\n",
        "> **Pregunta:** Comenta las distintas implementaciones de lenguajes y estándares que conozcas. Hazlo usando una tabla en Markdown. [Aquí](https://www.markdownguide.org/extended-syntax/#tables) tienes un poco de ayuda (aunque antes ya se ha puesto el ejemplo de una tabla).\n",
        "\n",
        "**Respuesta:**\n",
        "\n",
        "| Nombre  | URL                                              | Autor           | Licencia |\n",
        "|---------|--------------------------------------------------|-----------------|----------|\n",
        "| spiceypy| https://github.com/AndrewAnnex/SpiceyPy          | Andrew Annex    | MIT      |\n",
        "| PySpice | https://github.com/FabriceSalvaire/PySpice       | Fabrice Salvaire| GNU      |\n",
        "\n",
        "* *spiceypy*: SpiceyPy es una envoltura de python de SPICE Toolkit. SPICE es una herramienta esencial para científicos e ingenieros por igual en el campo de la ciencia planetaria para la Geometría del Sistema Solar. Visite el sitio web de NAIF para obtener más detalles sobre SPICE.\n",
        "\n",
        "**IMPORTANTE:** No cuenta con una afiliació con la NASA, NAIF o JPL. El código se proporciona \"tal cual\", úselo bajo su propio riesgo. Sin embargo, el NAIF ahora distribuye \"lecciones\" de Python que usan SpiceyPy como la interfaz de Python para condimentar.\n",
        "\n",
        "* *PySpice*: PySpice es un módulo de Python que conecta Python con los simuladores de circuito Ngspice y Xyce, permite la simulación de circuitos analógicos y digitales, como la comprobación de su funcionamiento y posterior análisis y estudio.\n",
        "\n",
        "> **Pregunta:** Describe brevemente este software (creador, objetivos, versiones, licencia, características principales, dependencias, etc.).\n",
        "\n",
        "**Respuesta:**\n",
        "\n",
        "## Introducción y Objetivo\n",
        "Ahkab es un simulador de circuitos electrónicos del tipo SPICE escrito en Python 2 y 3, el mismo es una suerte de extensión, de librería para Python. Como bien menciona el creador, ahkab surgió como un experimento o una prueba de concepto, citándolo “No tenemos expectativas de que nuestra herramienta de simulación de circuito pequeño, a veces defectuosa y de prueba de concepto, reemplace a los simuladores de circuito convencionales: son convencionales por buenas razones y merecen mucho los elogios y el dinero que pagamos. Sería tonto pensar lo contrario”, lo cual es un resumen muy claro de su punto de vista. Ahora bien, Ahkab viene a desmitificar la complejidad del análisis y simulaciones de circuitos, es una simplificación, en algún punto, que permite verificar que sucede al ejecutar las simulaciones, diseñar circuitos mas fácilmente, mas generalmente ya que esta escrito en un lenguaje mundialmente utilizado, permitiéndonos como dice el auto “ver bajo el capot” de formas tales que nos permite, por ejemplo, obtener las matrices de ecuaciones utilizadas, modificar los algoritmos que se utilizan para las simulaciones, corregirlos, modificarlos, adaptarlos, etc. Por otro lado, pone en manifiesto esos extensos documentos científicos que muchas veces carecen de implementaciones practicas por ende son una suerte de abstracción lejana de la práctica.\n",
        "## Creador\n",
        "Ahkab (actualmente en la versión 0.18 2015) fue creado por Giuseppe Venturini[^9] un entusiasta de la electrónica y programación, Ingeniero y Licenciado y actualmente desarrollando su doctorado. A su vez, su creación tuvo contribuidores tales como Ian Daniher [^10], Rob Crowther[^11].\n",
        "\n",
        "[^9]: http://ggventurini.io/\n",
        "\n",
        "[^10]: https://github.com/itdaniher\n",
        "\n",
        "[^11]: https://github.com/weilawei\n",
        "\n",
        "## Licencia\n",
        "GNU General Public License[^12]\n",
        "\n",
        "[^12]: https://ahkab.readthedocs.io/en/latest/misc/COPYING.html\n",
        "\n",
        "## Versiones Disponibles\n",
        "Estas son las versiones “oficiales” que hay disponibles en github, los reléase notes[^13] están disponibles en la página del autor \n",
        "*\t0.18\n",
        "*\t0.17\n",
        "*\t0.16\n",
        "*\t0.15\n",
        "*\t0.14\n",
        "*\t0.13\n",
        "*\t0.12\n",
        "*\t0.11\n",
        "*\t0.10\n",
        "\n",
        "[^13]: https://github.com/ahkab/ahkab/tags\n",
        "\n",
        "## Algunas Simulaciones Disponibles\n",
        "*\tNumérica (.op - Punto de operación)\n",
        "*\tAnálisis transitorio (.tran)\n",
        "*\tAnálisis AC – Corriente Alterna\n",
        "*\tAnálisis PZ – Polo Cero\n",
        "*\tAnálisis periódico de estado estacionario\n",
        "\n",
        "## Dependencias\n",
        "Algunas de sus dependencias son:\n",
        "*\tDependencias Core\n",
        "*\tPython 2: Versiones a partir de 2.6\n",
        "*\tPython 3: Versiones a partir de 3.3\n",
        "*\tDependencias para cálculos numéricos\n",
        "*\tNumpy: Versiones a partir de 1.7 \n",
        "*\tScipy: Versiones a partir 0.14\n",
        "*\tAnálisis y Simulación Simbólico\n",
        "*\tSympy: Versiones a partir 0.7.6\n",
        "*\tDependencias para Graficas\n",
        "*\tMatplotlib: Versiones a partir 1.1.1\n",
        "*\tTabulate: Versiones a partir 0.7.3\n",
        "*\tDependencias para ejecución de Pruebas\n",
        "*\tNose: no especificado\n",
        "\n",
        "# Trabajo práctico\n",
        "Muy bien, ahora toca definir circuitos y ejecutar simulaciones sobre los mismos gracias a Ahkab.\n",
        "\n",
        "## Instalación de bibliotecas necesarias\n",
        "Si estás utilizando Anaconda, asegúrate de tener su entorno activado:\n",
        "\n",
        "```cmd\n",
        "C:\\> conda activate base (en el caso de Windows)\n",
        "```\n",
        "ó\n",
        "\n",
        "```bash\n",
        "$ source /usr/local/Caskroom/miniconda/base/bin/activate (en el caso de macOS)\n",
        "```\n",
        "\n",
        "En el caso de Windows tienes que tener en el PATH el directorio donde se encuentre el comando `conda` (visita la sección de [Environment Variables](https://superuser.com/questions/949560/how-do-i-set-system-environment-variables-in-windows-10) del [Panel de Control](https://www.digitalcitizen.life/8-ways-start-control-panel-windows-10)). Si has instalado Anaconda con [esta opción](https://docs.anaconda.com/_images/win-install-options.png) marcada, ya no tienes que preocuparte por ello. \n",
        "\n",
        "Ahora ya puedes instalar Ahkab:\n",
        "\n",
        "```\n",
        "(base) $ pip install ahkab\n",
        "```\n",
        "\n",
        "Como siempre, una vez instalado cualquier framework para Python, ya lo podemos utilizar, tanto desde el [REPL](https://en.wikipedia.org/wiki/Read–eval–print_loop) como desde un entorno Jupyter (Jupyter, [Jupyterlab](http://jupyterlab.readthedocs.io/en/stable/), VS Code o nteract). Recuerda que para usar el kernel Python (que viene con Anaconda) desde nteract debes seguir las instrucciones que se indican en su [documentación oficial](https://nteract.io/kernels). "
      ],
      "metadata": {}
    },
    {
      "cell_type": "code",
      "source": [
        "import pylab as plt\n",
        "import ahkab"
      ],
      "outputs": [],
      "execution_count": null,
      "metadata": {
        "collapsed": false,
        "outputHidden": false,
        "inputHidden": false
      }
    },
    {
      "cell_type": "markdown",
      "source": [
        "También vamos a importar Sympy para hacer algún cálculo más *manual* más adelante:"
      ],
      "metadata": {}
    },
    {
      "cell_type": "code",
      "source": [
        "import sympy.physics.units as u\n",
        "from sympy.physics.units import Dimension \n",
        "from sympy import * \n",
        "from sympy.physics.units import convert_to"
      ],
      "outputs": [],
      "execution_count": null,
      "metadata": {
        "collapsed": false,
        "outputHidden": false,
        "inputHidden": false
      }
    },
    {
      "cell_type": "markdown",
      "source": [
        " > **Pregunta:** ¿Qué es y para qué sirve PyLab?\n",
        "\n",
        "**Respuesta:**\n",
        "\n",
        "De entre la infinidad de librerías que circulan por la red nos detenemos ante **PyLab** que no es una librería sino un conglomerado de varias librerías entre las que se incluyen *numpy*, *scipy*, *sympy*, *pandas*, *matplotlib*, *ipython*. Con esta suite podremos usar de manera muy parecida al interprete de Python como si de MatLab se tratara y hacer nuestros *.py* como si fueran scripts de MatLab.\n",
        "\n",
        "Creo que es interesante el uso de PyLab porque es un programa de código abierto por lo cual no dependes de caras licencias, desde el punto de vista de la eficiencia está comprobado que PyLab consigue mejores rendimientos en el calculo que MatLab en casi todas las operaciones, tiene también la ventaja de servir para Linux y para Windows y no tener que estar condenados a usar el sistema de Microsoft, además estás programando en python por tanto puedes juntar los programas de cálculo con todas las demás opciones que éste ofrece, sin olvidar que la sintaxis es la de Python conocida por su simplicidad.\n",
        "\n",
        "## Circuitos sencillos para trabjar con la ley de Ohm:\n",
        "\n",
        "La *mal llamada* ley de Ohm reza que el voltaje (la *energía por unidad de carga*) que se disipa en un tramo de un circuito eléctrico es equivalente a la intensidad ($I$) de la corriente (es decir, cuántos electrones circulan por unidad de tiempo) por la resistencia del material ($R$) en el que está desplazándose dicha corriente. Matemáticamente:\n",
        "\n",
        "$$\n",
        "V = I\\cdot R\n",
        "$$\n",
        "\n",
        "> **Pregunta:** comprueba que la ecuación anterior está ajustada a nivel dimensional, es decir, que la naturaleza de lo que está a ambos lados del signo igual es la misma. Realiza este ejercicio con LaTeX en una celda Markdown.\n",
        "\n",
        "**Respuesta:**\n",
        "\n",
        "Antes de comenzar debemos definir algunos conceptos:\n",
        "* I - La cantidad de electricidad que pasa por un conductor en un segundo se llama intensidad de la corriente y se mide en AMPERIOS (A).\n",
        "* R - La dificultad que ofrece el conductor al paso de una corriente eléctrica se llama resistencia eléctrica y semide en OHMIOS (Ω). \n",
        "* V - A la diferencia de potencial entre dos puntos se le llama tensión o voltaje y se mide en VOLTIOS (V). \n",
        "\n",
        "Ahora bien, la Ley de Ohm nos dice que, la intensidad es directamente proporcional a la tensión o voltaje e inversamente proporcional a la resistencia. Es decir que la intensidad crece cuando aumenta la tensión y disminuye cuando crece la resistencia.\n",
        "\n",
        "### Resistencia Eléctrica en terminos de Voltaje##\n",
        "Una diferencia de potencial $$\\Delta V = V_b - V_a $$ mantenida a través del conductor establece un campo eléctrico E y este campo produce una corriente I que es proporcional a la diferencia de potencial.\n",
        "\n",
        "Si el campo se considera uniforme, la diferencia de potencial $$ \\Delta V $$ se puede relacionar con el campo eléctrico E de la forma: \n",
        "$$\n",
        " \\Delta V = E l\n",
        "$$\n",
        "Por tanto, la magnitud de la densidad de corriente en el cable J se puede expresar como:\n",
        "$$\n",
        "J = \\sigma E = (1/\\rho)\\cdot E = (1/\\rho)\\cdot \\Delta V / l\n",
        "$$\n",
        "Puesto que J = I / A , la diferencia de potencial puede escribirse como:\n",
        "$$\n",
        "\\Delta V = \\rho\\cdot l\\cdot J = \\left ( \\frac{\\rho \\cdot l}{A} \\right )\\cdot I = R I\n",
        "$$\n",
        "Como se puede observar en la última fórmula, la cantidad $$R=\\left ( \\frac{\\rho \\cdot l}{A} \\right )$$ se denomina resistencia R del conductor. La resistencia es la razón entre la diferencia de potencial aplicada a un conductor $$\\Delta V$$ y la corriente que pasa por el mismo I :\n",
        "$$\n",
        "R = {V \\over I}\n",
        "$$\n",
        "\n",
        "Datos obtenidos de: http://wikifisica.etsit.upm.es/index.php/LA_LEY_de_OHM_y_RESISTENCIA_ELECTRICA_DEFINITIVO\n",
        "\n",
        "Comencemos con el circuito más sencillo posible de todos:\n",
        "\n",
        "![](https://raw.githubusercontent.com/pammacdotnet/spicelab/master/primer%20circuito.svg?sanitize=true)\n",
        "\n",
        "Vamos a escribir su contenido (componentes o *netlist*) en disco con el nombre `circuito sencillo.sp`. Esto lo podemos lograr directamente y en tiempo real desde una celda de Jupyter gracias a los *comandos mágicos* de este entorno de programación literaria. En concreto vamos a utilizar `%%writefile` que guarda los contenidos de una celda como un fichero. "
      ],
      "metadata": {}
    },
    {
      "cell_type": "code",
      "source": [
        "%%writefile \"circuito sencillo.sp\"\n",
        "* Este es un circuito sencillo\n",
        "r1 1 0 100\n",
        "v1 0 1 type=vdc vdc=9\n",
        ".op\n",
        ".dc v1 start=0 stop=9 step=1\n",
        ".end"
      ],
      "outputs": [],
      "execution_count": null,
      "metadata": {
        "collapsed": false,
        "outputHidden": false,
        "inputHidden": false
      }
    },
    {
      "cell_type": "markdown",
      "source": [
        "Ahora vamos a leer su descripción con Ahkab, interpretar y ejecutar las simulaciones que en él estén descritas."
      ],
      "metadata": {}
    },
    {
      "cell_type": "code",
      "source": [
        "circuito_y_análisis = ahkab.netlist_parser.parse_circuit('circuito sencillo.sp')"
      ],
      "outputs": [],
      "execution_count": null,
      "metadata": {
        "collapsed": false,
        "outputHidden": false,
        "inputHidden": false
      }
    },
    {
      "cell_type": "markdown",
      "source": [
        "Separamos la información del netlist (componentes) de los análisis (uno de tipo `op` y otro de tipo `dc`):"
      ],
      "metadata": {}
    },
    {
      "cell_type": "code",
      "source": [
        "circuito = circuito_y_análisis[0]\n",
        "análisis_en_netlist = circuito_y_análisis[1]\n",
        "lista_de_análisis = ahkab.netlist_parser.parse_analysis(circuito, análisis_en_netlist)\n",
        "print(lista_de_análisis)"
      ],
      "outputs": [],
      "execution_count": null,
      "metadata": {
        "collapsed": false,
        "outputHidden": false,
        "inputHidden": false
      }
    },
    {
      "cell_type": "markdown",
      "source": [
        "> **Pregunta:** ¿qué tipo de estructura de Python es `lista_de_análisis`?\n",
        "\n",
        "**Respuesta:**\n",
        "\n",
        "La variable **lista_de_análisis** tiene una estructura de tipo \"list\", la misma tiene los valores por typo **op** y **dc**, los cuales usaremos mas adelante para sacar la lista de valores que corresponda.\n"
      ],
      "metadata": {}
    },
    {
      "cell_type": "markdown",
      "source": [
        "Las simulaciones que implican listas de datos (`.dc`, `.tran`, etc.) necesitan de un fichero temporal (`outfile`) donde almacenar los resultados. Para ello tenemos que definir la propiedad `outfile`."
      ],
      "metadata": {}
    },
    {
      "cell_type": "code",
      "source": [
        "lista_de_análisis[1]['outfile'] = \"simulación dc.tsv\""
      ],
      "outputs": [],
      "execution_count": null,
      "metadata": {
        "collapsed": false,
        "outputHidden": false,
        "inputHidden": false
      }
    },
    {
      "cell_type": "markdown",
      "source": [
        "> **Pregunta:** Escribe el código Python necesario para identificar qué análisis de `lista_de_análisis`son de tipo `dc` ó `tran` y sólo añadir la propiedad `outfile` en estos casos. Aquí tenéis un post de Stackoverflow con algo de [ayuda](https://stackoverflow.com/questions/49194107/how-to-find-index-of-a-dictionary-key-value-within-a-list-python).\n",
        "Un poco más de ayuda: el siguiente código (sí, una única línea) devuelve el índice de la simulación que es de tipo `dc`. Para simplificar un poco el ejercicio, suponed que, como máximo, habrá un análisis de tipo `tran` y/o `dc`.\n",
        "\n",
        "**Respuesta:**"
      ],
      "metadata": {}
    },
    {
      "cell_type": "code",
      "source": [
        "for element in lista_de_análisis:\n",
        "    elementValues = element.values()\n",
        "    if \"tran\" in elementValues and \"outfile\" not in elementValues: \n",
        "        element['outfile'] = \"C:\\simulación tran.tsv\"\n",
        "    elif \"dc\" in elementValues and \"outfile\" not in elementValues:\n",
        "        element['outfile'] = \"C:\\simulación dc.tsv\""
      ],
      "outputs": [],
      "execution_count": null,
      "metadata": {
        "collapsed": false,
        "outputHidden": false,
        "inputHidden": false
      }
    },
    {
      "cell_type": "markdown",
      "source": [
        "Una vez que ya hemos separado netlists de simulaciones, ahora ejecutamos las segundas (¡todas a la vez!) gracias al método `.run` de Ahkab:"
      ],
      "metadata": {}
    },
    {
      "cell_type": "code",
      "source": [
        "resultados = ahkab.run(circuito, lista_de_análisis)"
      ],
      "outputs": [],
      "execution_count": null,
      "metadata": {
        "collapsed": false,
        "outputHidden": false,
        "inputHidden": false
      }
    },
    {
      "cell_type": "markdown",
      "source": [
        "### Resultados de la simulación `.dc`\n",
        "Imprimimos información sobre la simulación de tipo `.dc`:"
      ],
      "metadata": {}
    },
    {
      "cell_type": "code",
      "source": [
        "print(resultados['dc'])"
      ],
      "outputs": [],
      "execution_count": null,
      "metadata": {
        "collapsed": false,
        "outputHidden": false,
        "inputHidden": false
      }
    },
    {
      "cell_type": "markdown",
      "source": [
        "Veamos qué variables podemos dibujar para el caso del análisis `dc`."
      ],
      "metadata": {}
    },
    {
      "cell_type": "code",
      "source": [
        "print(resultados['dc'].keys())"
      ],
      "outputs": [],
      "execution_count": null,
      "metadata": {
        "collapsed": false,
        "outputHidden": false,
        "inputHidden": false
      }
    },
    {
      "cell_type": "markdown",
      "source": [
        "Y ahora graficamos el resultado del análisis anterior. Concretamente vamos a representar el voltaje en el borne 1 (`V1`) con respecto a la intensidad del circuito (`I(V1)`)."
      ],
      "metadata": {}
    },
    {
      "cell_type": "code",
      "source": [
        "figura = plt.figure()\n",
        "plt.title(\"Prueba DC\")\n",
        "plt.ylabel('Intensidad (A)')\n",
        "plt.xlabel('Voltaje (V)')\n",
        "plt.plot(resultados['dc']['V1'], resultados['dc']['I(V1)'], label=\"Voltaje (V1)\")\n",
        "print(resultados['op'])"
      ],
      "outputs": [],
      "execution_count": null,
      "metadata": {
        "collapsed": false,
        "outputHidden": false,
        "inputHidden": false
      }
    },
    {
      "cell_type": "markdown",
      "source": [
        "> **Pregunta:** Comenta la gráfica anterior… ¿qué estamos viendo exactamente? Etiqueta los ejes de la misma convenientemente. Así como ningún número puede *viajar* solo sin hacer referencia a su naturaleza, ninguna gráfica puede estar sin sus ejes convenientemente etiquetados. Algo de [ayuda](https://matplotlib.org/3.1.0/gallery/pyplots/fig_axes_labels_simple.html). ¿Qué biblioteca estamos usando para graficar? Una [pista](https://matplotlib.org).\n",
        "\n",
        "**Respuesta:**\n",
        "\n",
        "Estamos viendo la evolucion o los valores de potencial en los dos bornes o puntos de conexiòn cuando el circuito llega al punto de estabilizaciòn o equilibrio siendo estos puntos: V0 y V1. Es decir, se ve graficamente como se inicia en un valor de voltaje existente pero el mismo disminuye al pasar por la resistencia, en otras palabras podriamos decir que la resistencia le \"quita\" potencial al circuito.\n",
        "\n",
        "La Libreria que estamos usando se llama matplotlib, una suerte librería de trazado utilizada para gráficos 2D en Python, es muy flexible y tiene muchos valores predeterminados incorporados que ayuda enormemente a la hora de realizar graficas en python cuya referencia puede encontrarse en (https://matplotlib.org/)."
      ],
      "metadata": {}
    },
    {
      "cell_type": "markdown",
      "source": [
        "### Resultados de la simulación `.op` \n",
        "El método `.results` nos devuelve un diccionario con los resultados de la simulación."
      ],
      "metadata": {}
    },
    {
      "cell_type": "code",
      "source": [
        "print(resultados['op'].results)"
      ],
      "outputs": [],
      "execution_count": null,
      "metadata": {
        "collapsed": false,
        "outputHidden": false,
        "inputHidden": false
      }
    },
    {
      "cell_type": "markdown",
      "source": [
        "> **Pregunta:** Justifica el sencillo resultado anterior (análisis `op`). Repite el cálculo con Sympy, atendiendo con mimo a las unidades y al formateo de los resultados (tal y como hemos visto en muchos otros notebooks en clase).\n",
        "\n",
        "**Respuesta:**\n",
        "\n",
        "Como vemos si analizamos el circuito y realizamos el calculo con Sympy, aplicando la falsamente llamada Ley de Ohm, podemos verificar que la intensidad de corriente por su resistencia coincide con el voltaje del circuito siendo este 9V segun la definicion del mismo."
      ],
      "metadata": {}
    },
    {
      "cell_type": "code",
      "source": [
        "r1 = 100*u.ohms\n",
        "print(\"Ohm(R1): 100\")\n",
        "print(\"I(V1):\" + str(resultados['op']['I(V1)'][0][0]))\n",
        "intensidad_ahkab = resultados['op']['I(V1)'][0][0]*u.ampere\n",
        "print('Aplicamos la falsamente Ley de Ohm: V = I * R')\n",
        "v1 = convert_to(intensidad_ahkab*r1, [u.volt])\n",
        "pprint(v1)"
      ],
      "outputs": [],
      "execution_count": null,
      "metadata": {
        "collapsed": false,
        "outputHidden": false,
        "inputHidden": false
      }
    },
    {
      "cell_type": "markdown",
      "source": [
        "## Análisis de circuito con resistencias en serie\n",
        "Vamos a resolver (en punto de operación) el siguiente circuito:\n",
        "\n",
        "![](https://raw.githubusercontent.com/pammacdotnet/spicelab/master/resistencias%20en%20serie.svg?sanitize=true)\n",
        "\n",
        "Al igual que antes, grabamos el netlist en disco desde Jupyter gracias a la *palabra mágica* [`%writefile`](https://ipython.readthedocs.io/en/stable/interactive/magics.html#cellmagic-writefile). "
      ],
      "metadata": {}
    },
    {
      "cell_type": "code",
      "source": [
        "%%writefile \"resistencias en serie.net\"\n",
        "* circuito con tres resistencias en serie\n",
        "v1 1 0 type=vdc vdc=9\n",
        "R1 1 2 3k\n",
        "R2 2 3 10k  \n",
        "R3 3 0 5k\n",
        "* análisis del circuito\n",
        ".op\n",
        ".end"
      ],
      "outputs": [],
      "execution_count": null,
      "metadata": {
        "collapsed": false,
        "outputHidden": false,
        "inputHidden": false
      }
    },
    {
      "cell_type": "code",
      "source": [
        "circuito_y_análisis = ahkab.netlist_parser.parse_circuit('resistencias en serie.net')\n",
        "circuito = circuito_y_análisis[0]       \n",
        "análisis_en_netlist = circuito_y_análisis[1]\n",
        "lista_de_análisis = ahkab.netlist_parser.parse_analysis(circuito, análisis_en_netlist)\n",
        "resultados = ahkab.run(circuito, lista_de_análisis)"
      ],
      "outputs": [],
      "execution_count": null,
      "metadata": {
        "collapsed": false,
        "outputHidden": false,
        "inputHidden": false
      }
    },
    {
      "cell_type": "markdown",
      "source": [
        "Imprimos los resultados del análisis `.op`:"
      ],
      "metadata": {}
    },
    {
      "cell_type": "code",
      "source": [
        "print(resultados['op'])"
      ],
      "outputs": [],
      "execution_count": null,
      "metadata": {
        "collapsed": false,
        "outputHidden": false,
        "inputHidden": false
      }
    },
    {
      "cell_type": "markdown",
      "source": [
        "Las cantidades `V1`, `V2` y `V3` hacen referencia a los distintos valores del potencial que se ha perdido en cada uno de los bornes que has elegido para describir el netlist (`1`, `2`, etc.). Por ejemplo, podemos calcular el *potencial consumido* por la resistencia `R1` y verás que coincide con el del punto `V2` devuelto por Ahkab. "
      ],
      "metadata": {}
    },
    {
      "cell_type": "code",
      "source": [
        "r1 = 3E3*u.ohms\n",
        "r2 = 10E3*u.ohms\n",
        "r3 = 5E3*u.ohms\n",
        "intensidad_ahkab = resultados['op']['I(V1)'][0][0]*u.ampere\n",
        "v2r1 = convert_to(intensidad_ahkab*r1, [u.volt])\n",
        "v3r2 = convert_to(intensidad_ahkab*(r2), [u.volt])\n",
        "v4r3 = convert_to(intensidad_ahkab*(r3), [u.volt])\n",
        "pprint(v2r1)\n",
        "pprint(v3r2)\n",
        "pprint(v4r3)"
      ],
      "outputs": [],
      "execution_count": null,
      "metadata": {
        "collapsed": false,
        "outputHidden": false,
        "inputHidden": false
      }
    },
    {
      "cell_type": "markdown",
      "source": [
        "> **Pregunta**: reproduce el resto de los valores anteriores de manera *manual* mediante Sympy (es decir, aplicando la ley de Ohm, pero con tun *toque computacional*). Te pongo aquí un ejemplo del que puedes partir… En él sólo calculo la corriente que circula por el circuito (sí, justo la que antes Ahkab ha devuelto de manera automática). Para ello necesito previamente computar la resistencia total (`r_total`). Faltarían el resto de resultados y convertirlos a unidades más *vistosas* (mediante la orden `convert_to` y `.n()`)."
      ],
      "metadata": {}
    },
    {
      "cell_type": "code",
      "source": [
        "v1 = 9*u.volts\n",
        "r1 = 3E3*u.ohms\n",
        "r2 = 10E3*u.ohms\n",
        "r3 = 5E3*u.ohms\n",
        "r_total = r1 + r2 + r3"
      ],
      "outputs": [],
      "execution_count": null,
      "metadata": {
        "collapsed": false,
        "outputHidden": false,
        "inputHidden": false
      }
    },
    {
      "cell_type": "markdown",
      "source": [
        "**Respuesta:**"
      ],
      "metadata": {}
    },
    {
      "cell_type": "code",
      "source": [
        "intensidad = u.Quantity('i')\n",
        "intensidad.set_dimension(u.current)\n",
        "\n",
        "ley_ohm = Eq(v1, intensidad*r_total)\n",
        "\n",
        "solucion_para_intensidad = solve(ley_ohm, intensidad)\n",
        "\n",
        "iv1 = convert_to(solucion_para_intensidad[0], [u.ampere]).n(2)\n",
        "\n",
        "intensidad_ahkab = resultados['op']['I(V1)'][0][0]*u.ampere\n",
        "\n",
        "vv2 = convert_to(intensidad_ahkab*r1, [u.volt])\n",
        "vv3 = convert_to(intensidad_ahkab*(r1 + r2), [u.volt])\n",
        "vv4 = convert_to(intensidad_ahkab*r_total, [u.volt])\n",
        "\n",
        "print('Resistencia Total del Circuito: ' + str(r_total))\n",
        "print('V(V0) - Carece de Sentido realizar un calculo ya que es igual al voltaje de la fuente porque no existe ningun componente mas que la propia perdida (fuga) del material del cableado: ' + str(v1))\n",
        "print('V(V1):' + str(vv2))\n",
        "print('V(V2):' + str(vv3))\n",
        "print('V(V4):' + str(vv4))\n",
        "pprint('I(V1):' + str(iv1))"
      ],
      "outputs": [],
      "execution_count": null,
      "metadata": {
        "collapsed": false,
        "outputHidden": false,
        "inputHidden": false
      }
    },
    {
      "cell_type": "markdown",
      "source": [
        "> **Pregunta**: Demuestra que se cumple la Ley de Kirchhoff de la energía en un circuito, es decir, que la suma de la energía suministrada por las fuentes (pilas) es igual a la consumida por las resistencias. Realiza la operación con Sympy.\n",
        "\n",
        "$$\n",
        "\\sum_i^N V_{\\text{fuentes}} = \\sum_j^M V_{\\text{consumido en resistencias}}\n",
        "$$\n",
        "\n",
        "Ten en cuenta que en este caso sólo hay una fuente."
      ],
      "metadata": {}
    },
    {
      "cell_type": "markdown",
      "source": [
        "**Respuesta:**"
      ],
      "metadata": {}
    },
    {
      "cell_type": "code",
      "source": [
        "v2r1 = convert_to(intensidad_ahkab*r1, [u.volt])\n",
        "v3r2 = convert_to(intensidad_ahkab*(r2), [u.volt])\n",
        "v4r3 = convert_to(intensidad_ahkab*(r3), [u.volt])\n",
        "print('Si sumamos las energias consumidas por cada una de las resistencias, siendo estas v2R1, v3R2, V4R3, tenemos:'+ str(v2r1 + v3r2 + v4r3))\n",
        "print('Siendo el voltaje de la fuente de alimentacion V1 igual a:' + str(v1))\n",
        "print('Se comprueba que la suma de las corrientes entrantes es igual a la suma de las corrientes consumidas por las resistencias.')"
      ],
      "outputs": [],
      "execution_count": null,
      "metadata": {
        "collapsed": false,
        "outputHidden": false,
        "inputHidden": false
      }
    },
    {
      "cell_type": "markdown",
      "source": [
        "## Análisis `.op` de circuitos con resistencias en paralelo\n",
        "\n",
        "Vamos a complicar un poco el trabajo añadiendo elementos en paralelo.\n",
        "\n",
        " > **Pregunta**: realiza los análisis `.op` de los siguientes circuitos. Para ello crea un netlist separado para cada uno donde queden correctamente descritos junto con la simulación (`.op`). Comenta los resultados que devuelve Ahkab (no imprimas los resultados de las simulaciones *sin más*).\n",
        "\n",
        "![](https://raw.githubusercontent.com/pammacdotnet/spicelab/master/resistencias%20en%20paralelo.svg?sanitize=true)\n",
        "\n",
        "Aquí tienes el análisis del primer circuito, para que sirva de ejemplo:"
      ],
      "metadata": {}
    },
    {
      "cell_type": "code",
      "source": [
        "%%writefile \"resistencias en paralelo 1.cir\"\n",
        "* resistencias en paralelo\n",
        "vdd 0 1 vdc=12 type=vdc\n",
        "r2 1 2 1k\n",
        "r3 2 3 220\n",
        "r4 3 0 1.5k\n",
        "r5 2 0 470\n",
        ".op\n",
        ".end"
      ],
      "outputs": [],
      "execution_count": null,
      "metadata": {
        "collapsed": false,
        "outputHidden": false,
        "inputHidden": false
      }
    },
    {
      "cell_type": "code",
      "source": [
        "circuito_y_análisis = ahkab.netlist_parser.parse_circuit('resistencias en paralelo 1.cir')\n",
        "circuito = circuito_y_análisis[0]       \n",
        "análisis_en_netlist = circuito_y_análisis[1]\n",
        "lista_de_análisis = ahkab.netlist_parser.parse_analysis(circuito, análisis_en_netlist)\n",
        "resultados = ahkab.run(circuito, lista_de_análisis)"
      ],
      "outputs": [],
      "execution_count": null,
      "metadata": {
        "collapsed": false,
        "outputHidden": false,
        "inputHidden": false
      }
    },
    {
      "cell_type": "markdown",
      "source": [
        "Imprimimos los resultados del análisis `.op`. Como puedes comprobar, Ahkab sólo reporta la intensidad de corriente en las ramas en las que hay una pila (en este caso, la rama donde está la pila `VDD`)."
      ],
      "metadata": {}
    },
    {
      "cell_type": "code",
      "source": [
        "print(resultados['op'])"
      ],
      "outputs": [],
      "execution_count": null,
      "metadata": {
        "collapsed": false,
        "outputHidden": false,
        "inputHidden": false
      }
    },
    {
      "cell_type": "code",
      "source": [
        "%%writefile \"resistencias en paralelo 2.cir\"\n",
        "* resistencias en paralelo 2 \n",
        "vdd1 1 0 vdc=9 type=vdc\n",
        "vdd2 4 0 vdc=1.5 type=vdc\n",
        "r1 1 2 47\n",
        "r2 2 3 220\n",
        "r3 2 4 180\n",
        "r4 3 5 1k\n",
        "r5 5 0 560\n",
        ".op\n",
        ".end"
      ],
      "outputs": [],
      "execution_count": null,
      "metadata": {
        "collapsed": false,
        "outputHidden": false,
        "inputHidden": false
      }
    },
    {
      "cell_type": "code",
      "source": [
        "circuito_y_análisis_3 = ahkab.netlist_parser.parse_circuit('resistencias en paralelo 3.cir')\n",
        "circuito_3 = circuito_y_análisis_3[0]       \n",
        "análisis_en_netlist_3 = circuito_y_análisis_3[1]\n",
        "lista_de_análisis_3 = ahkab.netlist_parser.parse_analysis(circuito_3, análisis_en_netlist_3)\n",
        "resultados_3 = ahkab.run(circuito_3, lista_de_análisis_3)"
      ],
      "outputs": [],
      "execution_count": null,
      "metadata": {
        "collapsed": false,
        "outputHidden": false,
        "inputHidden": false
      }
    },
    {
      "cell_type": "code",
      "source": [
        "print(resultados_3['op'])"
      ],
      "outputs": [],
      "execution_count": null,
      "metadata": {
        "collapsed": false,
        "outputHidden": false,
        "inputHidden": false
      }
    },
    {
      "cell_type": "markdown",
      "source": [
        "> **Pregunta:** inserta dos *pilas virtuales* de 0 voltios en el resto de ramas del circuito (`Vdummy1` en la rama donde está `R5` y `Vdummy2` en la rama donde está `R3` y `R4`) para que Ahkab nos imprima también la corriente en las mismas. Es muy parecido al tercer circuito que tienes que resolver, donde `V1`, `V2` y `V3` tienen cero voltios. Estas *pilas nulas* son, a todos los efectos, *simples cables*. Una vez que ya tienes las corrientes en todas las ramas, comprueba que se cumple la Ley de Kirchhoff para las corrientes:\n",
        " \n",
        "$$\n",
        "I_{\\text{entrante}} = \\sum_i^{N} I_{\\text{salientes}}\n",
        "$$\n",
        "\n",
        "Repite lo mismo para los otros dos circuitos. Realiza además los cálculos con Sympy (recalcula los mismos voltajes que devuelve Ahkab a partir de la corriente que sí te devuelve la simulación) y cuidando de no olvidar las unidades. Recuerda que el objeto `resultados` alberga toda la información que necesitas de manera indexada. Ya han aparecido un ejemplo más arriba. Es decir: no *copies* los números *a mano*, trabaja de manera informáticamente elegante (usando la variable `resultados`). "
      ],
      "metadata": {}
    },
    {
      "cell_type": "markdown",
      "source": [
        "# Circuitos en DC que evolucionan con el tiempo\n",
        "## Carga de un condensador\n",
        "Vamos a ver qué le pasa a un circuito de corriente continua cuando tiene un condensador en serie.\n",
        "\n",
        "![](https://raw.githubusercontent.com/pammacdotnet/spicelab/master/condensador%20en%20continua.svg?sanitize=true)\n",
        "\n",
        "Al igual que antes, primero guardamos el circuito en un netlist externo:"
      ],
      "metadata": {}
    },
    {
      "cell_type": "code",
      "source": [
        "%%writefile \"condensador en continua.ckt\"\n",
        "* Carga condensador\n",
        "v1 0 1 type=vdc vdc=6\n",
        "r1 1 2 1k\n",
        "c1 2 0 1m ic=0\n",
        ".op\n",
        ".tran tstep=0.1 tstop=8 uic=0\n",
        ".end"
      ],
      "outputs": [],
      "execution_count": null,
      "metadata": {
        "collapsed": false,
        "outputHidden": false,
        "inputHidden": false
      }
    },
    {
      "cell_type": "markdown",
      "source": [
        "> **Pregunta:** ¿qué significa el parámetro `ic=0`? ¿qué perseguimos con un análisis de tipo `.tran`?\n",
        "\n",
        "Leamos el circuito:"
      ],
      "metadata": {}
    },
    {
      "cell_type": "code",
      "source": [
        "circuito_y_análisis = ahkab.netlist_parser.parse_circuit(\"condensador en continua.ckt\")"
      ],
      "outputs": [],
      "execution_count": null,
      "metadata": {
        "collapsed": false,
        "outputHidden": false,
        "inputHidden": false
      }
    },
    {
      "cell_type": "markdown",
      "source": [
        "Separamos el netlist de los análisis y asignamos un fichero de almacenamiento de datos (`outfile`):"
      ],
      "metadata": {}
    },
    {
      "cell_type": "code",
      "source": [
        "circuito = circuito_y_análisis[0]\n",
        "análisis_en_netlist = circuito_y_análisis[1]\n",
        "lista_de_análisis = ahkab.netlist_parser.parse_analysis(circuito, análisis_en_netlist)\n",
        "lista_de_análisis[1]['outfile'] = \"simulación tran.tsv\""
      ],
      "outputs": [],
      "execution_count": null,
      "metadata": {
        "collapsed": false,
        "outputHidden": false,
        "inputHidden": false
      }
    },
    {
      "cell_type": "markdown",
      "source": [
        " Ejecutamos la simulación:"
      ],
      "metadata": {}
    },
    {
      "cell_type": "code",
      "source": [
        "resultados = ahkab.run(circuito, lista_de_análisis)\n",
        "\n",
        "print('Anàlsis OP.')\n",
        "print(resultados['op'])\n",
        "\n",
        "print('Anàlsis Tran.')\n",
        "print(resultados['tran'])"
      ],
      "outputs": [],
      "execution_count": null,
      "metadata": {
        "collapsed": false,
        "outputHidden": false,
        "inputHidden": false
      }
    },
    {
      "cell_type": "markdown",
      "source": [
        "Dibujamos la gráfica de carga del condensador con el tiempo, centrándonos en la intensidad que circula por la pila. "
      ],
      "metadata": {}
    },
    {
      "cell_type": "code",
      "source": [
        "figura = plt.figure()\n",
        "plt.title(\"Carga de un condensador\")\n",
        "plt.ylabel('Corriente de Carga (V)')\n",
        "plt.xlabel('Tiempo (T)')\n",
        "plt.plot(resultados['tran']['T'], resultados['tran']['I(V1)'], label=\"Una etiqueta\")\n",
        "\n",
        "figura_v1 = plt.figure()\n",
        "plt.title(\"Gráfica con el voltaje en el borne V1\")\n",
        "plt.ylabel('Voltaje (V)')\n",
        "plt.xlabel('Tiempo (T)')\n",
        "plt.plot(resultados['tran']['T'], resultados['tran']['V1'], label=\"Una etiqueta\")\n",
        "\n",
        "figura_v2 = plt.figure()\n",
        "plt.title(\"Gráfica con el voltaje en el borne V2\")\n",
        "plt.ylabel('Voltaje (V)')\n",
        "plt.xlabel('Tiempo (T)')\n",
        "plt.plot(resultados['tran']['T'], resultados['tran']['V2'], label=\"Una etiqueta\")"
      ],
      "outputs": [],
      "execution_count": null,
      "metadata": {
        "collapsed": false,
        "outputHidden": false,
        "inputHidden": false
      }
    },
    {
      "cell_type": "markdown",
      "source": [
        "> **Pregunta:** Etiqueta los ejes convenientemente y comenta la gráfica. Dibuja otra gráfica con el voltaje en el borne `V1`. ¿Por qué son *opuestas*? ¿Qué le ocurre al voltaje a medida que evoluciona el circuito en el tiempo? Dibuja las gráficas en un formato estándar de representación vectorial (SVG, por ejemplo). Algo de ayuda [aquí](https://ipython.readthedocs.io/en/stable/api/generated/IPython.display.html#IPython.display.set_matplotlib_formats). ¿Qué valores devuelve el análisis de tipo `.op`? Justifícalo."
      ],
      "metadata": {}
    },
    {
      "cell_type": "markdown",
      "source": [
        "**Respuesta**"
      ],
      "metadata": {}
    },
    {
      "cell_type": "code",
      "source": [
        "print(resultados['op'])"
      ],
      "outputs": [],
      "execution_count": null,
      "metadata": {
        "collapsed": false,
        "outputHidden": false,
        "inputHidden": false
      }
    },
    {
      "cell_type": "markdown",
      "source": [
        "## Carrera de condensadores\n",
        "\n",
        "Ahora tenemos un circuito con dos condensadores en paralelo: \n",
        "\n",
        "![](https://raw.githubusercontent.com/pammacdotnet/spicelab/master/condensadores%20en%20paralelo.svg?sanitize=true)\n",
        "\n",
        "> **Pregunta:** Crea el netlist de este circuito e identifica qué condensador se satura primero. Dibuja la evolución de la intensidad en ambas ramas de manera simultánea. [Aquí](https://matplotlib.org/gallery/api/two_scales.html) tienes un ejemplo de cómo se hace esto en Matplotlib. Recuerda que para que Ahkab nos devuelva la corriente en una rama, debe de estar presente una pila. Si es necesario, inserta pilas virtuales de valor nulo (cero voltios), tal y como hemos comentado antes. Grafica también los voltajes (en otra gráfica, pero que aparezcan juntos). \n",
        "\n",
        "**Respuesta:**\n",
        "\n",
        "El flujo de corriente de carga en el circuito se distribuye a todos los condensadores en el circuito, la corriente total de carga es igual a la suma de todas las corrientes de carga individuales de los condensadores en el circuito y tenemos un mayor valor de capacitancia total"
      ],
      "metadata": {}
    },
    {
      "cell_type": "code",
      "source": [
        "%%writefile \"2 condensadores en paralelo.ckt\"\n",
        "* Carga condensador\n",
        "v0 0 1 type=vdc vdc=10\n",
        "r1 0 2 3k\n",
        "c1 2 3 47u ic=0\n",
        "v1dummy 3 1 type=vdc vdc=0\n",
        "c2 2 4 22u ic=0\n",
        "v2dummy 4 1 type=vdc vdc=0\n",
        ".op\n",
        ".tran tstep=0.01 tstop=1 uic=0\n",
        ".end"
      ],
      "outputs": [],
      "execution_count": null,
      "metadata": {
        "collapsed": false,
        "outputHidden": false,
        "inputHidden": false
      }
    },
    {
      "cell_type": "code",
      "source": [
        "circuito_y_análisis = ahkab.netlist_parser.parse_circuit(\"2 condensadores en paralelo.ckt\")"
      ],
      "outputs": [],
      "execution_count": null,
      "metadata": {
        "collapsed": false,
        "outputHidden": false,
        "inputHidden": false
      }
    },
    {
      "cell_type": "code",
      "source": [
        "circuito = circuito_y_análisis[0]\n",
        "análisis_en_netlist = circuito_y_análisis[1]\n",
        "lista_de_análisis = ahkab.netlist_parser.parse_analysis(circuito, análisis_en_netlist)\n",
        "lista_de_análisis[1]['outfile'] = \"simulación 2 condensadores en paralelo.tsv\""
      ],
      "outputs": [],
      "execution_count": null,
      "metadata": {
        "collapsed": false,
        "outputHidden": false,
        "inputHidden": false
      }
    },
    {
      "cell_type": "code",
      "source": [
        "resultados = ahkab.run(circuito, lista_de_análisis)"
      ],
      "outputs": [],
      "execution_count": null,
      "metadata": {
        "collapsed": false,
        "outputHidden": false,
        "inputHidden": false
      }
    },
    {
      "cell_type": "code",
      "source": [
        "print('Anàlsis OP.')\n",
        "print(resultados['op'])\n",
        "\n",
        "print('Anàlsis Tran.')\n",
        "print('Resultados Keys')\n",
        "print(resultados['tran'].keys())\n",
        "print('Resultados V1')\n",
        "print(resultados['tran']['V1'])\n",
        "print('Resultados V2')\n",
        "print(resultados['tran']['V2'])\n",
        "print('Resultados V3')\n",
        "print(resultados['tran']['V3'])\n",
        "print('Resultados V4')\n",
        "print(resultados['tran']['V4'])"
      ],
      "outputs": [],
      "execution_count": null,
      "metadata": {
        "collapsed": false,
        "outputHidden": false,
        "inputHidden": false
      }
    },
    {
      "cell_type": "code",
      "source": [
        "igura,ax1 = plt.subplots()\n",
        "plt.title(\"Carga de un condensador\")\n",
        "\n",
        "color = 'tab:red'\n",
        "ax1.set_xlabel('Tiempo (T)')\n",
        "ax1.set_ylabel('Corriente de Carga (V)', color=color)\n",
        "ax1.plot(resultados['tran']['T'], resultados['tran']['I(V1DUMMY)'], color=color)\n",
        "ax1.tick_params(axis='y', labelcolor=color)\n",
        "\n",
        "ax2 = ax1.twinx()  # instantiate a second axes that shares the same x-axis\n",
        "\n",
        "color = 'tab:blue'\n",
        "ax2.set_ylabel('Corriente de Carga (V)', color=color)\n",
        "ax2.plot(resultados['tran']['T'], resultados['tran']['I(V2DUMMY)'], color=color)\n",
        "ax2.tick_params(axis='y', labelcolor=color)\n",
        "\n",
        "figura.tight_layout()  # otherwise the right y-label is slightly clipped\n",
        "plt.show()"
      ],
      "outputs": [],
      "execution_count": null,
      "metadata": {
        "collapsed": false,
        "outputHidden": false,
        "inputHidden": false
      }
    },
    {
      "cell_type": "code",
      "source": [
        "figura,ax1 = plt.subplots()\n",
        "plt.title(\"Carga de un condensador\")\n",
        "\n",
        "color = 'tab:red'\n",
        "ax1.set_xlabel('Tiempo (T)')\n",
        "ax1.set_ylabel('Voltaje en Borne V1 (V)', color=color)\n",
        "ax1.plot(resultados['tran']['T'], resultados['tran']['V1'], color=color)\n",
        "ax1.tick_params(axis='y', labelcolor=color)\n",
        "\n",
        "ax2 = ax1.twinx()  # instantiate a second axes that shares the same x-axis\n",
        "\n",
        "color = 'tab:blue'\n",
        "ax2.set_ylabel('Voltaje en Borne V2 (V)', color=color)\n",
        "ax2.plot(resultados['tran']['T'], resultados['tran']['V2'], color=color)\n",
        "ax2.tick_params(axis='y', labelcolor=color)\n",
        "\n",
        "ax3 = ax1.twinx()  # instantiate a second axes that shares the same x-axis\n",
        "\n",
        "color = 'tab:purple'\n",
        "ax3.set_ylabel('Voltaje en Borne V3 (V)', color=color)\n",
        "ax3.plot(resultados['tran']['T'], resultados['tran']['V3'], color=color)\n",
        "ax3.tick_params(axis='y', labelcolor=color)\n",
        "\n",
        "ax4 = ax1.twinx()  # instantiate a second axes that shares the same x-axis\n",
        "\n",
        "color = 'tab:brown'\n",
        "ax4.set_ylabel('Voltaje en Borne V3 (V)', color=color)\n",
        "ax4.plot(resultados['tran']['T'], resultados['tran']['V4'], color=color)\n",
        "ax4.tick_params(axis='y', labelcolor=color)\n",
        "\n",
        "figura.tight_layout()  # otherwise the right y-label is slightly clipped\n",
        "plt.show()"
      ],
      "outputs": [],
      "execution_count": null,
      "metadata": {
        "collapsed": false,
        "outputHidden": false,
        "inputHidden": false
      }
    }
  ],
  "metadata": {
    "kernel_info": {
      "name": "python3"
    },
    "kernelspec": {
      "display_name": "Python 3",
      "language": "python",
      "name": "python3"
    },
    "language_info": {
      "codemirror_mode": {
        "name": "ipython",
        "version": 3
      },
      "file_extension": ".py",
      "mimetype": "text/x-python",
      "name": "python",
      "nbconvert_exporter": "python",
      "pygments_lexer": "ipython3",
      "version": "3.6.4"
    },
    "title": "Try out Vega through Altair",
    "nteract": {
      "version": "0.15.0"
    }
  },
  "nbformat": 4,
  "nbformat_minor": 1
}